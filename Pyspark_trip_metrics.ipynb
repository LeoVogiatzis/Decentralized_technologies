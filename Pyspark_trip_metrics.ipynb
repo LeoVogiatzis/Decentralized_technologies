{
  "cells": [
    {
      "cell_type": "markdown",
      "metadata": {
        "id": "view-in-github",
        "colab_type": "text"
      },
      "source": [
        "<a href=\"https://colab.research.google.com/github/LeoVogiatzis/Decentralized_technologies/blob/main/Pyspark_trip_metrics.ipynb\" target=\"_parent\"><img src=\"https://colab.research.google.com/assets/colab-badge.svg\" alt=\"Open In Colab\"/></a>"
      ]
    },
    {
      "cell_type": "code",
      "execution_count": 3,
      "metadata": {
        "id": "fXZCYjBYwniI"
      },
      "outputs": [],
      "source": [
        "!apt-get install openjdk-8-jdk-headless -qq > /dev/null\n",
        "!wget -q http://archive.apache.org/dist/spark/spark-3.1.1/spark-3.1.1-bin-hadoop3.2.tgz\n",
        "!tar xf spark-3.1.1-bin-hadoop3.2.tgz\n",
        "!pip install -q findspark"
      ]
    },
    {
      "cell_type": "code",
      "execution_count": 1,
      "metadata": {
        "id": "hD156pX_w9Xv"
      },
      "outputs": [],
      "source": [
        "import os\n",
        "os.environ[\"JAVA_HOME\"] = \"/usr/lib/jvm/java-8-openjdk-amd64\"\n",
        "os.environ[\"SPARK_HOME\"] = \"/content/spark-3.1.1-bin-hadoop3.2\""
      ]
    },
    {
      "cell_type": "code",
      "execution_count": 4,
      "metadata": {
        "colab": {
          "base_uri": "https://localhost:8080/",
          "height": 219
        },
        "id": "5AY9L0LYw-21",
        "outputId": "8c97c4af-deae-4179-b26a-f178262e5f34"
      },
      "outputs": [
        {
          "output_type": "execute_result",
          "data": {
            "text/html": [
              "\n",
              "            <div>\n",
              "                <p><b>SparkSession - in-memory</b></p>\n",
              "                \n",
              "        <div>\n",
              "            <p><b>SparkContext</b></p>\n",
              "\n",
              "            <p><a href=\"http://6dfee77c1977:4040\">Spark UI</a></p>\n",
              "\n",
              "            <dl>\n",
              "              <dt>Version</dt>\n",
              "                <dd><code>v3.1.1</code></dd>\n",
              "              <dt>Master</dt>\n",
              "                <dd><code>local[*]</code></dd>\n",
              "              <dt>AppName</dt>\n",
              "                <dd><code>pyspark-shell</code></dd>\n",
              "            </dl>\n",
              "        </div>\n",
              "        \n",
              "            </div>\n",
              "        "
            ],
            "text/plain": [
              "<pyspark.sql.session.SparkSession at 0x7f366285af50>"
            ]
          },
          "metadata": {},
          "execution_count": 4
        }
      ],
      "source": [
        "import findspark\n",
        "findspark.init()\n",
        "from pyspark.sql import SparkSession\n",
        "spark = SparkSession.builder.master(\"local[*]\").getOrCreate()\n",
        "spark.conf.set(\"spark.sql.repl.eagerEval.enabled\", True) # Property used to format output tables better\n",
        "spark"
      ]
    },
    {
      "cell_type": "code",
      "execution_count": 6,
      "metadata": {
        "colab": {
          "base_uri": "https://localhost:8080/",
          "height": 529
        },
        "id": "IVe7-cxBxAKA",
        "outputId": "5cc94eb5-43cd-409f-d002-618c4b87f6b0"
      },
      "outputs": [
        {
          "output_type": "execute_result",
          "data": {
            "text/html": [
              "<table border='1'>\n",
              "<tr><th>driver_id</th><th>trip_id</th><th>started_at</th><th>acc_3050_avg</th><th>acc_5090_avg</th><th>gyroscope_distance_avg</th><th>acc_highway_sq_of_diff</th></tr>\n",
              "<tr><td>17</td><td>00FADF7F-2476-4AS...</td><td>2021-03-06 10:54:...</td><td>null</td><td>null</td><td>null</td><td>null</td></tr>\n",
              "<tr><td>25</td><td>68D01DEE-0762-43F...</td><td>2020-06-24 22:56:...</td><td>1.248</td><td>0.0</td><td>0.0839204</td><td>0.0</td></tr>\n",
              "<tr><td>25</td><td>B9787774-A4A5-4D7...</td><td>2020-06-24 22:56:...</td><td>2.42077</td><td>0.854118</td><td>0.0577057</td><td>0.0</td></tr>\n",
              "<tr><td>25</td><td>B9FC3426-54D7-422...</td><td>2020-06-25 05:42:...</td><td>1.01929</td><td>0.645</td><td>0.0518536</td><td>0.0</td></tr>\n",
              "<tr><td>29</td><td>003EBA72-BCD4-494...</td><td>2020-06-07 18:02:...</td><td>1.8231</td><td>1.52599</td><td>0.115597</td><td>0.0</td></tr>\n",
              "<tr><td>29</td><td>005434FE-2A50-455...</td><td>2021-10-16 13:09:...</td><td>1.34385</td><td>1.10739</td><td>0.117654</td><td>0.0</td></tr>\n",
              "<tr><td>29</td><td>006D71BD-924E-456...</td><td>2021-06-22 17:16:...</td><td>1.43</td><td>1.00235</td><td>0.179869</td><td>0.0</td></tr>\n",
              "<tr><td>29</td><td>00FCDF7F-2476-4AB...</td><td>2021-03-06 10:54:...</td><td>null</td><td>null</td><td>null</td><td>null</td></tr>\n",
              "<tr><td>29</td><td>0111FE7B-FD62-44A...</td><td>2021-08-19 17:31:...</td><td>1.44327</td><td>1.27143</td><td>0.0635855</td><td>1.60433</td></tr>\n",
              "<tr><td>29</td><td>014FC193-93AA-4D3...</td><td>2021-03-18 17:52:...</td><td>null</td><td>null</td><td>null</td><td>null</td></tr>\n",
              "<tr><td>29</td><td>017EB69E-99CA-41B...</td><td>2020-05-04 15:26:...</td><td>1.49693</td><td>0.907862</td><td>0.151527</td><td>null</td></tr>\n",
              "<tr><td>29</td><td>018FBBE9-DD3B-472...</td><td>2021-04-05 13:17:...</td><td>1.62303</td><td>1.03822</td><td>0.0557309</td><td>0.0</td></tr>\n",
              "<tr><td>29</td><td>01B398C4-084D-4CB...</td><td>2021-10-02 10:42:...</td><td>0.647143</td><td>0.0</td><td>0.0973147</td><td>0.0</td></tr>\n",
              "<tr><td>29</td><td>01DBAF37-F83A-4AA...</td><td>2021-03-15 16:01:...</td><td>1.82087</td><td>0.0</td><td>0.204185</td><td>0.0</td></tr>\n",
              "<tr><td>29</td><td>01F34B28-3C1F-454...</td><td>2021-06-13 18:11:...</td><td>1.3249</td><td>0.0</td><td>0.139431</td><td>0.0</td></tr>\n",
              "<tr><td>29</td><td>02324192-F472-4C5...</td><td>2021-07-18 18:02:...</td><td>1.69765</td><td>1.44</td><td>0.0813416</td><td>0.0</td></tr>\n",
              "<tr><td>29</td><td>02357419-11ED-48A...</td><td>2021-08-10 21:10:...</td><td>null</td><td>null</td><td>null</td><td>null</td></tr>\n",
              "<tr><td>29</td><td>0345DC1D-0129-467...</td><td>2020-06-09 12:19:...</td><td>2.09233</td><td>1.30411</td><td>0.129886</td><td>4.37076</td></tr>\n",
              "<tr><td>29</td><td>03538009-A101-449...</td><td>2021-10-30 10:32:...</td><td>1.48271</td><td>1.09943</td><td>0.0980879</td><td>0.0</td></tr>\n",
              "<tr><td>29</td><td>0405FF7F-2906-429...</td><td>2021-03-02 13:47:...</td><td>1.43379</td><td>0.0</td><td>0.0577622</td><td>0.0</td></tr>\n",
              "</table>\n",
              "only showing top 20 rows\n"
            ],
            "text/plain": [
              "+---------+--------------------+--------------------+------------+------------+----------------------+----------------------+\n",
              "|driver_id|             trip_id|          started_at|acc_3050_avg|acc_5090_avg|gyroscope_distance_avg|acc_highway_sq_of_diff|\n",
              "+---------+--------------------+--------------------+------------+------------+----------------------+----------------------+\n",
              "|       17|00FADF7F-2476-4AS...|2021-03-06 10:54:...|        null|        null|                  null|                  null|\n",
              "|       25|68D01DEE-0762-43F...|2020-06-24 22:56:...|       1.248|         0.0|             0.0839204|                   0.0|\n",
              "|       25|B9787774-A4A5-4D7...|2020-06-24 22:56:...|     2.42077|    0.854118|             0.0577057|                   0.0|\n",
              "|       25|B9FC3426-54D7-422...|2020-06-25 05:42:...|     1.01929|       0.645|             0.0518536|                   0.0|\n",
              "|       29|003EBA72-BCD4-494...|2020-06-07 18:02:...|      1.8231|     1.52599|              0.115597|                   0.0|\n",
              "|       29|005434FE-2A50-455...|2021-10-16 13:09:...|     1.34385|     1.10739|              0.117654|                   0.0|\n",
              "|       29|006D71BD-924E-456...|2021-06-22 17:16:...|        1.43|     1.00235|              0.179869|                   0.0|\n",
              "|       29|00FCDF7F-2476-4AB...|2021-03-06 10:54:...|        null|        null|                  null|                  null|\n",
              "|       29|0111FE7B-FD62-44A...|2021-08-19 17:31:...|     1.44327|     1.27143|             0.0635855|               1.60433|\n",
              "|       29|014FC193-93AA-4D3...|2021-03-18 17:52:...|        null|        null|                  null|                  null|\n",
              "|       29|017EB69E-99CA-41B...|2020-05-04 15:26:...|     1.49693|    0.907862|              0.151527|                  null|\n",
              "|       29|018FBBE9-DD3B-472...|2021-04-05 13:17:...|     1.62303|     1.03822|             0.0557309|                   0.0|\n",
              "|       29|01B398C4-084D-4CB...|2021-10-02 10:42:...|    0.647143|         0.0|             0.0973147|                   0.0|\n",
              "|       29|01DBAF37-F83A-4AA...|2021-03-15 16:01:...|     1.82087|         0.0|              0.204185|                   0.0|\n",
              "|       29|01F34B28-3C1F-454...|2021-06-13 18:11:...|      1.3249|         0.0|              0.139431|                   0.0|\n",
              "|       29|02324192-F472-4C5...|2021-07-18 18:02:...|     1.69765|        1.44|             0.0813416|                   0.0|\n",
              "|       29|02357419-11ED-48A...|2021-08-10 21:10:...|        null|        null|                  null|                  null|\n",
              "|       29|0345DC1D-0129-467...|2020-06-09 12:19:...|     2.09233|     1.30411|              0.129886|               4.37076|\n",
              "|       29|03538009-A101-449...|2021-10-30 10:32:...|     1.48271|     1.09943|             0.0980879|                   0.0|\n",
              "|       29|0405FF7F-2906-429...|2021-03-02 13:47:...|     1.43379|         0.0|             0.0577622|                   0.0|\n",
              "+---------+--------------------+--------------------+------------+------------+----------------------+----------------------+\n",
              "only showing top 20 rows"
            ]
          },
          "metadata": {},
          "execution_count": 6
        }
      ],
      "source": [
        "# Load the csv into a dataframe\n",
        "trip_df = spark.read.csv(\"/content/trip_data.csv\", header=True, inferSchema=True)\n",
        "trip_df"
      ]
    },
    {
      "cell_type": "code",
      "execution_count": null,
      "metadata": {
        "id": "-cPaTg3OMSp7"
      },
      "outputs": [],
      "source": [
        ""
      ]
    },
    {
      "cell_type": "code",
      "execution_count": 7,
      "metadata": {
        "colab": {
          "base_uri": "https://localhost:8080/"
        },
        "id": "K02d6sPwxtnz",
        "outputId": "27c6376e-f8cc-4c76-e8e3-eb15c7e5a0fd"
      },
      "outputs": [
        {
          "output_type": "stream",
          "name": "stdout",
          "text": [
            "root\n",
            " |-- driver_id: integer (nullable = true)\n",
            " |-- trip_id: string (nullable = true)\n",
            " |-- started_at: string (nullable = true)\n",
            " |-- acc_3050_avg: double (nullable = true)\n",
            " |-- acc_5090_avg: double (nullable = true)\n",
            " |-- gyroscope_distance_avg: double (nullable = true)\n",
            " |-- acc_highway_sq_of_diff: double (nullable = true)\n",
            "\n"
          ]
        }
      ],
      "source": [
        "trip_df.printSchema()"
      ]
    },
    {
      "cell_type": "code",
      "execution_count": 8,
      "metadata": {
        "colab": {
          "base_uri": "https://localhost:8080/",
          "height": 161
        },
        "id": "jpO-UsbaySWW",
        "outputId": "284e011b-b9bc-4a0a-d18b-c3a3f6feee1a"
      },
      "outputs": [
        {
          "output_type": "execute_result",
          "data": {
            "text/html": [
              "<table border='1'>\n",
              "<tr><th>driver_id</th><th>trip_id</th><th>started_at</th><th>acc_3050_avg</th><th>acc_5090_avg</th><th>gyroscope_distance_avg</th><th>acc_highway_sq_of_diff</th></tr>\n",
              "<tr><td>17</td><td>00FADF7F-2476-4AS...</td><td>2021-03-06 10:54:...</td><td>null</td><td>null</td><td>null</td><td>null</td></tr>\n",
              "<tr><td>25</td><td>68D01DEE-0762-43F...</td><td>2020-06-24 22:56:...</td><td>1.248</td><td>0.0</td><td>0.0839204</td><td>0.0</td></tr>\n",
              "<tr><td>25</td><td>B9787774-A4A5-4D7...</td><td>2020-06-24 22:56:...</td><td>2.42077</td><td>0.854118</td><td>0.0577057</td><td>0.0</td></tr>\n",
              "<tr><td>25</td><td>B9FC3426-54D7-422...</td><td>2020-06-25 05:42:...</td><td>1.01929</td><td>0.645</td><td>0.0518536</td><td>0.0</td></tr>\n",
              "<tr><td>29</td><td>003EBA72-BCD4-494...</td><td>2020-06-07 18:02:...</td><td>1.8231</td><td>1.52599</td><td>0.115597</td><td>0.0</td></tr>\n",
              "</table>\n"
            ],
            "text/plain": [
              "+---------+--------------------+--------------------+------------+------------+----------------------+----------------------+\n",
              "|driver_id|             trip_id|          started_at|acc_3050_avg|acc_5090_avg|gyroscope_distance_avg|acc_highway_sq_of_diff|\n",
              "+---------+--------------------+--------------------+------------+------------+----------------------+----------------------+\n",
              "|       17|00FADF7F-2476-4AS...|2021-03-06 10:54:...|        null|        null|                  null|                  null|\n",
              "|       25|68D01DEE-0762-43F...|2020-06-24 22:56:...|       1.248|         0.0|             0.0839204|                   0.0|\n",
              "|       25|B9787774-A4A5-4D7...|2020-06-24 22:56:...|     2.42077|    0.854118|             0.0577057|                   0.0|\n",
              "|       25|B9FC3426-54D7-422...|2020-06-25 05:42:...|     1.01929|       0.645|             0.0518536|                   0.0|\n",
              "|       29|003EBA72-BCD4-494...|2020-06-07 18:02:...|      1.8231|     1.52599|              0.115597|                   0.0|\n",
              "+---------+--------------------+--------------------+------------+------------+----------------------+----------------------+"
            ]
          },
          "metadata": {},
          "execution_count": 8
        }
      ],
      "source": [
        "trip_df.limit(5)"
      ]
    },
    {
      "cell_type": "code",
      "execution_count": null,
      "metadata": {
        "id": "uZ93_jO_Mfwo"
      },
      "outputs": [],
      "source": [
        "trip_df.withColumn(\"acc_3050_avg\",trip_df.acc_3050_avg.cast(FloatType()))\n",
        "trip_df.withColumn(\"acc_5090_avg\",trip_df.acc_5090_avg.cast(FloatType()))\n",
        "trip_df.withColumn(\"gyroscope_distance_avg\",trip_df.gyroscope_distance_avg.cast(FloatType()))\n",
        "trip_df.withColumn(\"acc_highway_sq_of_diff\",trip_df.acc_highway_sq_of_diff.cast(FloatType()))"
      ]
    },
    {
      "cell_type": "code",
      "execution_count": 9,
      "metadata": {
        "colab": {
          "base_uri": "https://localhost:8080/",
          "height": 529
        },
        "id": "jCyoXLxkmrSR",
        "outputId": "5e15a108-24b0-4f56-b8be-165497667fed"
      },
      "outputs": [
        {
          "output_type": "execute_result",
          "data": {
            "text/html": [
              "<table border='1'>\n",
              "<tr><th>started_at</th></tr>\n",
              "<tr><td>2021-03-06 10:54:54</td></tr>\n",
              "<tr><td>2020-06-24 22:56:36</td></tr>\n",
              "<tr><td>2020-06-24 22:56:38</td></tr>\n",
              "<tr><td>2020-06-25 05:42:47</td></tr>\n",
              "<tr><td>2020-06-07 18:02:00</td></tr>\n",
              "<tr><td>2021-10-16 13:09:25</td></tr>\n",
              "<tr><td>2021-06-22 17:16:49</td></tr>\n",
              "<tr><td>2021-03-06 10:54:54</td></tr>\n",
              "<tr><td>2021-08-19 17:31:29</td></tr>\n",
              "<tr><td>2021-03-18 17:52:11</td></tr>\n",
              "<tr><td>2020-05-04 15:26:57</td></tr>\n",
              "<tr><td>2021-04-05 13:17:10</td></tr>\n",
              "<tr><td>2021-10-02 10:42:05</td></tr>\n",
              "<tr><td>2021-03-15 16:01:27</td></tr>\n",
              "<tr><td>2021-06-13 18:11:49</td></tr>\n",
              "<tr><td>2021-07-18 18:02:26</td></tr>\n",
              "<tr><td>2021-08-10 21:10:01</td></tr>\n",
              "<tr><td>2020-06-09 12:19:14</td></tr>\n",
              "<tr><td>2021-10-30 10:32:22</td></tr>\n",
              "<tr><td>2021-03-02 13:47:07</td></tr>\n",
              "</table>\n",
              "only showing top 20 rows\n"
            ],
            "text/plain": [
              "+-------------------+\n",
              "|         started_at|\n",
              "+-------------------+\n",
              "|2021-03-06 10:54:54|\n",
              "|2020-06-24 22:56:36|\n",
              "|2020-06-24 22:56:38|\n",
              "|2020-06-25 05:42:47|\n",
              "|2020-06-07 18:02:00|\n",
              "|2021-10-16 13:09:25|\n",
              "|2021-06-22 17:16:49|\n",
              "|2021-03-06 10:54:54|\n",
              "|2021-08-19 17:31:29|\n",
              "|2021-03-18 17:52:11|\n",
              "|2020-05-04 15:26:57|\n",
              "|2021-04-05 13:17:10|\n",
              "|2021-10-02 10:42:05|\n",
              "|2021-03-15 16:01:27|\n",
              "|2021-06-13 18:11:49|\n",
              "|2021-07-18 18:02:26|\n",
              "|2021-08-10 21:10:01|\n",
              "|2020-06-09 12:19:14|\n",
              "|2021-10-30 10:32:22|\n",
              "|2021-03-02 13:47:07|\n",
              "+-------------------+\n",
              "only showing top 20 rows"
            ]
          },
          "metadata": {},
          "execution_count": 9
        }
      ],
      "source": [
        "trip_df.selectExpr(\"cast(acc_3050_avg as float) acc_3050_avg\")\n",
        "trip_df.selectExpr(\"cast(acc_5090_avg as float) acc_5090_avg\")\n",
        "trip_df.selectExpr(\"cast(gyroscope_distance_avg as float) gyroscope_distance_avg\")\n",
        "trip_df.selectExpr(\"cast(acc_highway_sq_of_diff as float) acc_highway_sq_of_diff\")\n",
        "trip_df.selectExpr(\"cast(started_at as timestamp) started_at\")"
      ]
    },
    {
      "cell_type": "code",
      "execution_count": 10,
      "metadata": {
        "colab": {
          "base_uri": "https://localhost:8080/"
        },
        "id": "kDtlt15JMhhy",
        "outputId": "a4f9f3cd-c6c4-442c-cdbc-0aafaacf2809"
      },
      "outputs": [
        {
          "output_type": "stream",
          "name": "stdout",
          "text": [
            "root\n",
            " |-- driver_id: integer (nullable = true)\n",
            " |-- trip_id: string (nullable = true)\n",
            " |-- started_at: string (nullable = true)\n",
            " |-- acc_3050_avg: double (nullable = true)\n",
            " |-- acc_5090_avg: double (nullable = true)\n",
            " |-- gyroscope_distance_avg: double (nullable = true)\n",
            " |-- acc_highway_sq_of_diff: double (nullable = true)\n",
            "\n"
          ]
        }
      ],
      "source": [
        "trip_df.printSchema()"
      ]
    },
    {
      "cell_type": "code",
      "execution_count": 11,
      "metadata": {
        "colab": {
          "base_uri": "https://localhost:8080/"
        },
        "id": "k28K__ai8qCX",
        "outputId": "d0cb1cbb-a26d-4428-d025-76479fb4e92b"
      },
      "outputs": [
        {
          "output_type": "stream",
          "name": "stdout",
          "text": [
            "+---------+--------------------+--------------------+------------+------------+----------------------+----------------------+\n",
            "|driver_id|             trip_id|          started_at|acc_3050_avg|acc_5090_avg|gyroscope_distance_avg|acc_highway_sq_of_diff|\n",
            "+---------+--------------------+--------------------+------------+------------+----------------------+----------------------+\n",
            "|       29|1951302F-5B1C-46E...|2021-04-29 13:29:...|     1.49032|         0.0|                0.1072|                   0.0|\n",
            "|       29|54CE41D7-ED04-40B...|2021-08-18 15:11:...|     2.14824|     1.45594|             0.0763101|                   0.0|\n",
            "|       29|9BEFD512-2CCA-48C...|2021-08-18 17:13:...|        null|        null|                  null|                  null|\n",
            "|       29|B18D6BE3-D55B-4C4...|2021-07-12 10:12:...|     1.35283|     1.03636|               0.38295|                   0.0|\n",
            "|       29|EF1CDA67-0E73-406...|2021-09-26 18:16:...|    0.771148|         0.0|             0.0512305|                   0.0|\n",
            "|       64|68296059-ED6E-425...|2021-06-19 17:57:...|        null|        null|                  null|                  null|\n",
            "|       89|1A2AC6FD-4875-43D...|2020-04-26 16:22:...|    0.782857|         0.0|             0.0775677|                  null|\n",
            "|       29|14A78800-B601-4F6...|2021-05-22 10:50:...|     2.43692|        1.32|             0.0449526|                   0.0|\n",
            "|       29|56FFA228-3341-47C...|2021-08-02 11:38:...|     1.43727|    0.831923|             0.0586232|                   0.0|\n",
            "|       29|735BD532-2121-42E...|2020-12-24 12:19:...|        3.18|       0.936|              0.264081|                   0.0|\n",
            "|       29|7C3BDC1F-213C-401...|2021-10-09 14:49:...|     2.42118|     2.23756|              0.100504|               1.66102|\n",
            "|       29|8BDE9F09-C4F2-4EE...|2021-11-05 10:04:...|      2.7217|     3.02182|              0.102863|                   0.0|\n",
            "|       29|A3E80BF4-A031-4E7...|2021-09-06 17:37:...|     1.36235|         1.2|              0.114736|                   0.0|\n",
            "|       29|D9006F35-B536-421...|2021-06-27 21:05:...|     1.28052|     0.59395|               0.11839|                   0.0|\n",
            "|       29|DE6A5887-2F36-49A...|2021-08-14 23:12:...|        1.38|    0.703729|              0.072488|                   0.0|\n",
            "|       29|E9D8FC72-10B6-44B...|2021-05-27 15:18:...|        null|        null|                  null|                  null|\n",
            "|       47|945DA130-4367-40C...|2020-05-23 18:39:...|    0.716923|         0.0|             0.0490174|                  null|\n",
            "|       29|7E5AD301-50E8-497...|2021-04-25 07:18:...|       0.864|         0.0|             0.0830361|                   0.0|\n",
            "|       29|8DEB5969-BC5A-42D...|2021-05-15 15:03:...|      0.9624|         0.0|             0.0524632|                   0.0|\n",
            "|       29|904EA102-C98A-4CD...|2021-08-19 16:08:...|     1.13096|     1.24727|              0.317929|                   0.0|\n",
            "+---------+--------------------+--------------------+------------+------------+----------------------+----------------------+\n",
            "only showing top 20 rows\n",
            "\n"
          ]
        }
      ],
      "source": [
        "trip_df.dropDuplicates().show()"
      ]
    },
    {
      "cell_type": "code",
      "execution_count": 12,
      "metadata": {
        "colab": {
          "base_uri": "https://localhost:8080/",
          "height": 161
        },
        "id": "Js7AEUp28qbK",
        "outputId": "3b6db2f7-9a4a-46f0-f9ea-f3f11c7bd466"
      },
      "outputs": [
        {
          "output_type": "execute_result",
          "data": {
            "text/html": [
              "<table border='1'>\n",
              "<tr><th>summary</th><th>driver_id</th><th>trip_id</th><th>started_at</th><th>acc_3050_avg</th><th>acc_5090_avg</th><th>gyroscope_distance_avg</th><th>acc_highway_sq_of_diff</th></tr>\n",
              "<tr><td>count</td><td>1329</td><td>1329</td><td>1329</td><td>1154</td><td>1154</td><td>1154</td><td>981</td></tr>\n",
              "<tr><td>mean</td><td>42.12716328066215</td><td>null</td><td>null</td><td>1.6466904757365664</td><td>1.0337048396880402</td><td>0.12307810303292882</td><td>0.3103469480122326</td></tr>\n",
              "<tr><td>stddev</td><td>22.818520362642648</td><td>null</td><td>null</td><td>0.6946612782267817</td><td>0.8469978320510017</td><td>0.09209712893816752</td><td>0.8690187539767591</td></tr>\n",
              "<tr><td>min</td><td>17</td><td>003EBA72-BCD4-494...</td><td>2020-04-23 12:45:...</td><td>0.0</td><td>0.0</td><td>0.0189641</td><td>0.0</td></tr>\n",
              "<tr><td>max</td><td>89</td><td>TEST_P20210619083703</td><td>2021-11-19 08:29:...</td><td>5.10462</td><td>12.6</td><td>0.835739</td><td>6.98592</td></tr>\n",
              "</table>\n"
            ],
            "text/plain": [
              "+-------+------------------+--------------------+--------------------+------------------+------------------+----------------------+----------------------+\n",
              "|summary|         driver_id|             trip_id|          started_at|      acc_3050_avg|      acc_5090_avg|gyroscope_distance_avg|acc_highway_sq_of_diff|\n",
              "+-------+------------------+--------------------+--------------------+------------------+------------------+----------------------+----------------------+\n",
              "|  count|              1329|                1329|                1329|              1154|              1154|                  1154|                   981|\n",
              "|   mean| 42.12716328066215|                null|                null|1.6466904757365664|1.0337048396880402|   0.12307810303292882|    0.3103469480122326|\n",
              "| stddev|22.818520362642648|                null|                null|0.6946612782267817|0.8469978320510017|   0.09209712893816752|    0.8690187539767591|\n",
              "|    min|                17|003EBA72-BCD4-494...|2020-04-23 12:45:...|               0.0|               0.0|             0.0189641|                   0.0|\n",
              "|    max|                89|TEST_P20210619083703|2021-11-19 08:29:...|           5.10462|              12.6|              0.835739|               6.98592|\n",
              "+-------+------------------+--------------------+--------------------+------------------+------------------+----------------------+----------------------+"
            ]
          },
          "metadata": {},
          "execution_count": 12
        }
      ],
      "source": [
        "trip_df.describe()"
      ]
    },
    {
      "cell_type": "code",
      "execution_count": 13,
      "metadata": {
        "colab": {
          "base_uri": "https://localhost:8080/"
        },
        "id": "bvotbboP8qid",
        "outputId": "beb2b7c1-ccdc-4f5f-de0c-55c5b0c6ca18"
      },
      "outputs": [
        {
          "output_type": "execute_result",
          "data": {
            "text/plain": [
              "1329"
            ]
          },
          "metadata": {},
          "execution_count": 13
        }
      ],
      "source": [
        "trip_df.count()"
      ]
    },
    {
      "cell_type": "code",
      "execution_count": 14,
      "metadata": {
        "colab": {
          "base_uri": "https://localhost:8080/"
        },
        "id": "jxvabI7k9XP3",
        "outputId": "0b255419-536e-47df-c822-5ee7b61ab2ba"
      },
      "outputs": [
        {
          "output_type": "execute_result",
          "data": {
            "text/plain": [
              "1329"
            ]
          },
          "metadata": {},
          "execution_count": 14
        }
      ],
      "source": [
        "trip_df.dropDuplicates().count()"
      ]
    },
    {
      "cell_type": "code",
      "execution_count": 15,
      "metadata": {
        "id": "NPMDjhkby-0i"
      },
      "outputs": [],
      "source": [
        "trip_df = trip_df.na.drop(subset=[\"acc_3050_avg\", \"acc_5090_avg\", \"gyroscope_distance_avg\",\"acc_highway_sq_of_diff\"])\n",
        "  #  .show(truncate=False)"
      ]
    },
    {
      "cell_type": "code",
      "execution_count": 16,
      "metadata": {
        "colab": {
          "base_uri": "https://localhost:8080/"
        },
        "id": "DBEUfMqC3ioi",
        "outputId": "811bd25d-412e-45e1-aeb8-1cbb5e0caa64"
      },
      "outputs": [
        {
          "output_type": "execute_result",
          "data": {
            "text/plain": [
              "981"
            ]
          },
          "metadata": {},
          "execution_count": 16
        }
      ],
      "source": [
        "trip_df.count()"
      ]
    },
    {
      "cell_type": "code",
      "execution_count": null,
      "metadata": {
        "colab": {
          "background_save": true
        },
        "id": "elcBoyJx_Rhs"
      },
      "outputs": [],
      "source": [
        "import math\n",
        "def  stdDev( sumX, sumSquared, n ):\n",
        "  mean = sumX / n\n",
        "  stdDeviation = math.sqrt ((sumSquared - n*mean*mean) /n)\n",
        "  return (mean, stdDeviation)\n",
        "meanAndStdDev = trip_df.groupBy(\"trip_id\",\"driver_id\").mapValues(lambda x : stdDev(x[0], x[1], x[2]))"
      ]
    },
    {
      "cell_type": "code",
      "execution_count": 17,
      "metadata": {
        "id": "lmLfP4dHAuvH"
      },
      "outputs": [],
      "source": [
        "gr_df = trip_df.groupBy(\"trip_id\",\"driver_id\")"
      ]
    },
    {
      "cell_type": "code",
      "execution_count": null,
      "metadata": {
        "colab": {
          "base_uri": "https://localhost:8080/"
        },
        "id": "_wZ3kxdQB95B",
        "outputId": "b91a9386-2f52-4fbc-a89c-cda773a43261"
      },
      "outputs": [
        {
          "name": "stdout",
          "output_type": "stream",
          "text": [
            "<pyspark.sql.group.GroupedData object at 0x7ff28eb73c90>\n"
          ]
        }
      ],
      "source": [
        "print(gr_df)"
      ]
    },
    {
      "cell_type": "code",
      "execution_count": null,
      "metadata": {
        "id": "9gQV_r3jAn1W"
      },
      "outputs": [],
      "source": [
        ""
      ]
    }
  ],
  "metadata": {
    "colab": {
      "collapsed_sections": [],
      "name": "Pyspark-trip-metrics.ipynb",
      "provenance": [],
      "include_colab_link": true
    },
    "kernelspec": {
      "display_name": "Python 3",
      "name": "python3"
    },
    "language_info": {
      "name": "python"
    }
  },
  "nbformat": 4,
  "nbformat_minor": 0
}