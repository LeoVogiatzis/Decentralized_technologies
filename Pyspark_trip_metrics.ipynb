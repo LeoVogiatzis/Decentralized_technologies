{
  "cells": [
    {
      "cell_type": "markdown",
      "metadata": {
        "id": "view-in-github",
        "colab_type": "text"
      },
      "source": [
        "<a href=\"https://colab.research.google.com/github/LeoVogiatzis/Decentralized_technologies/blob/main/Pyspark_trip_metrics.ipynb\" target=\"_parent\"><img src=\"https://colab.research.google.com/assets/colab-badge.svg\" alt=\"Open In Colab\"/></a>"
      ]
    },
    {
      "cell_type": "markdown",
      "source": [
        "Install pyspark and open-jdk"
      ],
      "metadata": {
        "id": "WsS8H4B0_m8S"
      }
    },
    {
      "cell_type": "code",
      "execution_count": 166,
      "metadata": {
        "id": "fXZCYjBYwniI"
      },
      "outputs": [],
      "source": [
        "!apt-get install openjdk-8-jdk-headless -qq > /dev/null\n",
        "!wget -q http://archive.apache.org/dist/spark/spark-3.1.1/spark-3.1.1-bin-hadoop3.2.tgz\n",
        "!tar xf spark-3.1.1-bin-hadoop3.2.tgz\n",
        "!pip install -q findspark --no-cache-dir"
      ]
    },
    {
      "cell_type": "code",
      "execution_count": 167,
      "metadata": {
        "id": "hD156pX_w9Xv"
      },
      "outputs": [],
      "source": [
        "import os\n",
        "os.environ[\"JAVA_HOME\"] = \"/usr/lib/jvm/java-8-openjdk-amd64\"\n",
        "os.environ[\"SPARK_HOME\"] = \"/content/spark-3.1.1-bin-hadoop3.2\""
      ]
    },
    {
      "cell_type": "markdown",
      "source": [
        "SparkSession "
      ],
      "metadata": {
        "id": "Y914uSIW_yDG"
      }
    },
    {
      "cell_type": "code",
      "execution_count": 168,
      "metadata": {
        "colab": {
          "base_uri": "https://localhost:8080/",
          "height": 222
        },
        "id": "5AY9L0LYw-21",
        "outputId": "397878bd-b414-41ae-e1f6-e1e17e2fb2db"
      },
      "outputs": [
        {
          "output_type": "execute_result",
          "data": {
            "text/plain": [
              "<pyspark.sql.session.SparkSession at 0x7f367317ccd0>"
            ],
            "text/html": [
              "\n",
              "            <div>\n",
              "                <p><b>SparkSession - in-memory</b></p>\n",
              "                \n",
              "        <div>\n",
              "            <p><b>SparkContext</b></p>\n",
              "\n",
              "            <p><a href=\"http://01351fa5de94:4040\">Spark UI</a></p>\n",
              "\n",
              "            <dl>\n",
              "              <dt>Version</dt>\n",
              "                <dd><code>v3.1.1</code></dd>\n",
              "              <dt>Master</dt>\n",
              "                <dd><code>local[*]</code></dd>\n",
              "              <dt>AppName</dt>\n",
              "                <dd><code>pyspark-shell</code></dd>\n",
              "            </dl>\n",
              "        </div>\n",
              "        \n",
              "            </div>\n",
              "        "
            ]
          },
          "metadata": {},
          "execution_count": 168
        }
      ],
      "source": [
        "import findspark\n",
        "findspark.init()\n",
        "from pyspark.sql import SparkSession\n",
        "spark = SparkSession.builder.master(\"local[*]\").getOrCreate()\n",
        "spark.conf.set(\"spark.sql.repl.eagerEval.enabled\", True) # Property used to format output tables better\n",
        "spark"
      ]
    },
    {
      "cell_type": "code",
      "source": [
        "import pandas as pd\n",
        "from pyspark.sql import functions as F\n",
        "from pyspark.sql.window import Window\n",
        "from pyspark.sql.functions import row_number, col, ntile\n",
        "import sys"
      ],
      "metadata": {
        "id": "sYUtGVUqCv8P"
      },
      "execution_count": 169,
      "outputs": []
    },
    {
      "cell_type": "code",
      "execution_count": 170,
      "metadata": {
        "colab": {
          "base_uri": "https://localhost:8080/",
          "height": 525
        },
        "id": "IVe7-cxBxAKA",
        "outputId": "f05fd4c7-f921-4b19-e110-f373328c6f75"
      },
      "outputs": [
        {
          "output_type": "execute_result",
          "data": {
            "text/plain": [
              "+---------+--------------------+--------------------+------------+------------+----------------------+----------------------+\n",
              "|driver_id|             trip_id|          started_at|acc_3050_avg|acc_5090_avg|gyroscope_distance_avg|acc_highway_sq_of_diff|\n",
              "+---------+--------------------+--------------------+------------+------------+----------------------+----------------------+\n",
              "|       17|00FADF7F-2476-4AS...|2021-03-06 10:54:...|        null|        null|                  null|                  null|\n",
              "|       25|68D01DEE-0762-43F...|2020-06-24 22:56:...|       1.248|         0.0|             0.0839204|                   0.0|\n",
              "|       25|B9787774-A4A5-4D7...|2020-06-24 22:56:...|     2.42077|    0.854118|             0.0577057|                   0.0|\n",
              "|       25|B9FC3426-54D7-422...|2020-06-25 05:42:...|     1.01929|       0.645|             0.0518536|                   0.0|\n",
              "|       29|003EBA72-BCD4-494...|2020-06-07 18:02:...|      1.8231|     1.52599|              0.115597|                   0.0|\n",
              "|       29|005434FE-2A50-455...|2021-10-16 13:09:...|     1.34385|     1.10739|              0.117654|                   0.0|\n",
              "|       29|006D71BD-924E-456...|2021-06-22 17:16:...|        1.43|     1.00235|              0.179869|                   0.0|\n",
              "|       29|00FCDF7F-2476-4AB...|2021-03-06 10:54:...|        null|        null|                  null|                  null|\n",
              "|       29|0111FE7B-FD62-44A...|2021-08-19 17:31:...|     1.44327|     1.27143|             0.0635855|               1.60433|\n",
              "|       29|014FC193-93AA-4D3...|2021-03-18 17:52:...|        null|        null|                  null|                  null|\n",
              "|       29|017EB69E-99CA-41B...|2020-05-04 15:26:...|     1.49693|    0.907862|              0.151527|                  null|\n",
              "|       29|018FBBE9-DD3B-472...|2021-04-05 13:17:...|     1.62303|     1.03822|             0.0557309|                   0.0|\n",
              "|       29|01B398C4-084D-4CB...|2021-10-02 10:42:...|    0.647143|         0.0|             0.0973147|                   0.0|\n",
              "|       29|01DBAF37-F83A-4AA...|2021-03-15 16:01:...|     1.82087|         0.0|              0.204185|                   0.0|\n",
              "|       29|01F34B28-3C1F-454...|2021-06-13 18:11:...|      1.3249|         0.0|              0.139431|                   0.0|\n",
              "|       29|02324192-F472-4C5...|2021-07-18 18:02:...|     1.69765|        1.44|             0.0813416|                   0.0|\n",
              "|       29|02357419-11ED-48A...|2021-08-10 21:10:...|        null|        null|                  null|                  null|\n",
              "|       29|0345DC1D-0129-467...|2020-06-09 12:19:...|     2.09233|     1.30411|              0.129886|               4.37076|\n",
              "|       29|03538009-A101-449...|2021-10-30 10:32:...|     1.48271|     1.09943|             0.0980879|                   0.0|\n",
              "|       29|0405FF7F-2906-429...|2021-03-02 13:47:...|     1.43379|         0.0|             0.0577622|                   0.0|\n",
              "+---------+--------------------+--------------------+------------+------------+----------------------+----------------------+\n",
              "only showing top 20 rows"
            ],
            "text/html": [
              "<table border='1'>\n",
              "<tr><th>driver_id</th><th>trip_id</th><th>started_at</th><th>acc_3050_avg</th><th>acc_5090_avg</th><th>gyroscope_distance_avg</th><th>acc_highway_sq_of_diff</th></tr>\n",
              "<tr><td>17</td><td>00FADF7F-2476-4AS...</td><td>2021-03-06 10:54:...</td><td>null</td><td>null</td><td>null</td><td>null</td></tr>\n",
              "<tr><td>25</td><td>68D01DEE-0762-43F...</td><td>2020-06-24 22:56:...</td><td>1.248</td><td>0.0</td><td>0.0839204</td><td>0.0</td></tr>\n",
              "<tr><td>25</td><td>B9787774-A4A5-4D7...</td><td>2020-06-24 22:56:...</td><td>2.42077</td><td>0.854118</td><td>0.0577057</td><td>0.0</td></tr>\n",
              "<tr><td>25</td><td>B9FC3426-54D7-422...</td><td>2020-06-25 05:42:...</td><td>1.01929</td><td>0.645</td><td>0.0518536</td><td>0.0</td></tr>\n",
              "<tr><td>29</td><td>003EBA72-BCD4-494...</td><td>2020-06-07 18:02:...</td><td>1.8231</td><td>1.52599</td><td>0.115597</td><td>0.0</td></tr>\n",
              "<tr><td>29</td><td>005434FE-2A50-455...</td><td>2021-10-16 13:09:...</td><td>1.34385</td><td>1.10739</td><td>0.117654</td><td>0.0</td></tr>\n",
              "<tr><td>29</td><td>006D71BD-924E-456...</td><td>2021-06-22 17:16:...</td><td>1.43</td><td>1.00235</td><td>0.179869</td><td>0.0</td></tr>\n",
              "<tr><td>29</td><td>00FCDF7F-2476-4AB...</td><td>2021-03-06 10:54:...</td><td>null</td><td>null</td><td>null</td><td>null</td></tr>\n",
              "<tr><td>29</td><td>0111FE7B-FD62-44A...</td><td>2021-08-19 17:31:...</td><td>1.44327</td><td>1.27143</td><td>0.0635855</td><td>1.60433</td></tr>\n",
              "<tr><td>29</td><td>014FC193-93AA-4D3...</td><td>2021-03-18 17:52:...</td><td>null</td><td>null</td><td>null</td><td>null</td></tr>\n",
              "<tr><td>29</td><td>017EB69E-99CA-41B...</td><td>2020-05-04 15:26:...</td><td>1.49693</td><td>0.907862</td><td>0.151527</td><td>null</td></tr>\n",
              "<tr><td>29</td><td>018FBBE9-DD3B-472...</td><td>2021-04-05 13:17:...</td><td>1.62303</td><td>1.03822</td><td>0.0557309</td><td>0.0</td></tr>\n",
              "<tr><td>29</td><td>01B398C4-084D-4CB...</td><td>2021-10-02 10:42:...</td><td>0.647143</td><td>0.0</td><td>0.0973147</td><td>0.0</td></tr>\n",
              "<tr><td>29</td><td>01DBAF37-F83A-4AA...</td><td>2021-03-15 16:01:...</td><td>1.82087</td><td>0.0</td><td>0.204185</td><td>0.0</td></tr>\n",
              "<tr><td>29</td><td>01F34B28-3C1F-454...</td><td>2021-06-13 18:11:...</td><td>1.3249</td><td>0.0</td><td>0.139431</td><td>0.0</td></tr>\n",
              "<tr><td>29</td><td>02324192-F472-4C5...</td><td>2021-07-18 18:02:...</td><td>1.69765</td><td>1.44</td><td>0.0813416</td><td>0.0</td></tr>\n",
              "<tr><td>29</td><td>02357419-11ED-48A...</td><td>2021-08-10 21:10:...</td><td>null</td><td>null</td><td>null</td><td>null</td></tr>\n",
              "<tr><td>29</td><td>0345DC1D-0129-467...</td><td>2020-06-09 12:19:...</td><td>2.09233</td><td>1.30411</td><td>0.129886</td><td>4.37076</td></tr>\n",
              "<tr><td>29</td><td>03538009-A101-449...</td><td>2021-10-30 10:32:...</td><td>1.48271</td><td>1.09943</td><td>0.0980879</td><td>0.0</td></tr>\n",
              "<tr><td>29</td><td>0405FF7F-2906-429...</td><td>2021-03-02 13:47:...</td><td>1.43379</td><td>0.0</td><td>0.0577622</td><td>0.0</td></tr>\n",
              "</table>\n",
              "only showing top 20 rows\n"
            ]
          },
          "metadata": {},
          "execution_count": 170
        }
      ],
      "source": [
        "# Load the csv into a dataframe\n",
        "from google.colab import files\n",
        "uploaded = files.upload()\n",
        "trip_df = spark.read.csv(\"/content/trip_data.csv\", header=True, inferSchema=True)\n",
        "trip_df"
      ]
    },
    {
      "cell_type": "code",
      "execution_count": 171,
      "metadata": {
        "colab": {
          "base_uri": "https://localhost:8080/"
        },
        "id": "K02d6sPwxtnz",
        "outputId": "425548a6-8eb2-4590-d2ee-b33fcbe019e6"
      },
      "outputs": [
        {
          "output_type": "stream",
          "name": "stdout",
          "text": [
            "root\n",
            " |-- driver_id: integer (nullable = true)\n",
            " |-- trip_id: string (nullable = true)\n",
            " |-- started_at: string (nullable = true)\n",
            " |-- acc_3050_avg: double (nullable = true)\n",
            " |-- acc_5090_avg: double (nullable = true)\n",
            " |-- gyroscope_distance_avg: double (nullable = true)\n",
            " |-- acc_highway_sq_of_diff: double (nullable = true)\n",
            "\n"
          ]
        }
      ],
      "source": [
        "trip_df.printSchema()"
      ]
    },
    {
      "cell_type": "code",
      "execution_count": 172,
      "metadata": {
        "colab": {
          "base_uri": "https://localhost:8080/",
          "height": 160
        },
        "id": "jpO-UsbaySWW",
        "outputId": "55e8540b-91d3-48d5-9f0e-48f2e587f3e7"
      },
      "outputs": [
        {
          "output_type": "execute_result",
          "data": {
            "text/plain": [
              "+---------+--------------------+--------------------+------------+------------+----------------------+----------------------+\n",
              "|driver_id|             trip_id|          started_at|acc_3050_avg|acc_5090_avg|gyroscope_distance_avg|acc_highway_sq_of_diff|\n",
              "+---------+--------------------+--------------------+------------+------------+----------------------+----------------------+\n",
              "|       17|00FADF7F-2476-4AS...|2021-03-06 10:54:...|        null|        null|                  null|                  null|\n",
              "|       25|68D01DEE-0762-43F...|2020-06-24 22:56:...|       1.248|         0.0|             0.0839204|                   0.0|\n",
              "|       25|B9787774-A4A5-4D7...|2020-06-24 22:56:...|     2.42077|    0.854118|             0.0577057|                   0.0|\n",
              "|       25|B9FC3426-54D7-422...|2020-06-25 05:42:...|     1.01929|       0.645|             0.0518536|                   0.0|\n",
              "|       29|003EBA72-BCD4-494...|2020-06-07 18:02:...|      1.8231|     1.52599|              0.115597|                   0.0|\n",
              "+---------+--------------------+--------------------+------------+------------+----------------------+----------------------+"
            ],
            "text/html": [
              "<table border='1'>\n",
              "<tr><th>driver_id</th><th>trip_id</th><th>started_at</th><th>acc_3050_avg</th><th>acc_5090_avg</th><th>gyroscope_distance_avg</th><th>acc_highway_sq_of_diff</th></tr>\n",
              "<tr><td>17</td><td>00FADF7F-2476-4AS...</td><td>2021-03-06 10:54:...</td><td>null</td><td>null</td><td>null</td><td>null</td></tr>\n",
              "<tr><td>25</td><td>68D01DEE-0762-43F...</td><td>2020-06-24 22:56:...</td><td>1.248</td><td>0.0</td><td>0.0839204</td><td>0.0</td></tr>\n",
              "<tr><td>25</td><td>B9787774-A4A5-4D7...</td><td>2020-06-24 22:56:...</td><td>2.42077</td><td>0.854118</td><td>0.0577057</td><td>0.0</td></tr>\n",
              "<tr><td>25</td><td>B9FC3426-54D7-422...</td><td>2020-06-25 05:42:...</td><td>1.01929</td><td>0.645</td><td>0.0518536</td><td>0.0</td></tr>\n",
              "<tr><td>29</td><td>003EBA72-BCD4-494...</td><td>2020-06-07 18:02:...</td><td>1.8231</td><td>1.52599</td><td>0.115597</td><td>0.0</td></tr>\n",
              "</table>\n"
            ]
          },
          "metadata": {},
          "execution_count": 172
        }
      ],
      "source": [
        "trip_df.limit(5)"
      ]
    },
    {
      "cell_type": "markdown",
      "source": [
        "Cast the columns into the proper type\n"
      ],
      "metadata": {
        "id": "5tnnc_J7A_F2"
      }
    },
    {
      "cell_type": "code",
      "execution_count": 173,
      "metadata": {
        "colab": {
          "base_uri": "https://localhost:8080/",
          "height": 525
        },
        "id": "jCyoXLxkmrSR",
        "outputId": "671470c4-5fec-428e-959f-222c1aebe339"
      },
      "outputs": [
        {
          "output_type": "execute_result",
          "data": {
            "text/plain": [
              "+-------------------+\n",
              "|         started_at|\n",
              "+-------------------+\n",
              "|2021-03-06 10:54:54|\n",
              "|2020-06-24 22:56:36|\n",
              "|2020-06-24 22:56:38|\n",
              "|2020-06-25 05:42:47|\n",
              "|2020-06-07 18:02:00|\n",
              "|2021-10-16 13:09:25|\n",
              "|2021-06-22 17:16:49|\n",
              "|2021-03-06 10:54:54|\n",
              "|2021-08-19 17:31:29|\n",
              "|2021-03-18 17:52:11|\n",
              "|2020-05-04 15:26:57|\n",
              "|2021-04-05 13:17:10|\n",
              "|2021-10-02 10:42:05|\n",
              "|2021-03-15 16:01:27|\n",
              "|2021-06-13 18:11:49|\n",
              "|2021-07-18 18:02:26|\n",
              "|2021-08-10 21:10:01|\n",
              "|2020-06-09 12:19:14|\n",
              "|2021-10-30 10:32:22|\n",
              "|2021-03-02 13:47:07|\n",
              "+-------------------+\n",
              "only showing top 20 rows"
            ],
            "text/html": [
              "<table border='1'>\n",
              "<tr><th>started_at</th></tr>\n",
              "<tr><td>2021-03-06 10:54:54</td></tr>\n",
              "<tr><td>2020-06-24 22:56:36</td></tr>\n",
              "<tr><td>2020-06-24 22:56:38</td></tr>\n",
              "<tr><td>2020-06-25 05:42:47</td></tr>\n",
              "<tr><td>2020-06-07 18:02:00</td></tr>\n",
              "<tr><td>2021-10-16 13:09:25</td></tr>\n",
              "<tr><td>2021-06-22 17:16:49</td></tr>\n",
              "<tr><td>2021-03-06 10:54:54</td></tr>\n",
              "<tr><td>2021-08-19 17:31:29</td></tr>\n",
              "<tr><td>2021-03-18 17:52:11</td></tr>\n",
              "<tr><td>2020-05-04 15:26:57</td></tr>\n",
              "<tr><td>2021-04-05 13:17:10</td></tr>\n",
              "<tr><td>2021-10-02 10:42:05</td></tr>\n",
              "<tr><td>2021-03-15 16:01:27</td></tr>\n",
              "<tr><td>2021-06-13 18:11:49</td></tr>\n",
              "<tr><td>2021-07-18 18:02:26</td></tr>\n",
              "<tr><td>2021-08-10 21:10:01</td></tr>\n",
              "<tr><td>2020-06-09 12:19:14</td></tr>\n",
              "<tr><td>2021-10-30 10:32:22</td></tr>\n",
              "<tr><td>2021-03-02 13:47:07</td></tr>\n",
              "</table>\n",
              "only showing top 20 rows\n"
            ]
          },
          "metadata": {},
          "execution_count": 173
        }
      ],
      "source": [
        "trip_df.selectExpr(\"cast(acc_3050_avg as float) acc_3050_avg\")\n",
        "trip_df.selectExpr(\"cast(acc_5090_avg as float) acc_5090_avg\")\n",
        "trip_df.selectExpr(\"cast(gyroscope_distance_avg as float) gyroscope_distance_avg\")\n",
        "trip_df.selectExpr(\"cast(acc_highway_sq_of_diff as float) acc_highway_sq_of_diff\")\n",
        "trip_df.selectExpr(\"cast(started_at as timestamp) started_at\")"
      ]
    },
    {
      "cell_type": "code",
      "execution_count": 174,
      "metadata": {
        "colab": {
          "base_uri": "https://localhost:8080/"
        },
        "id": "kDtlt15JMhhy",
        "outputId": "ecec17bd-4c10-4561-ced8-b72a3694aee3"
      },
      "outputs": [
        {
          "output_type": "stream",
          "name": "stdout",
          "text": [
            "root\n",
            " |-- driver_id: integer (nullable = true)\n",
            " |-- trip_id: string (nullable = true)\n",
            " |-- started_at: string (nullable = true)\n",
            " |-- acc_3050_avg: double (nullable = true)\n",
            " |-- acc_5090_avg: double (nullable = true)\n",
            " |-- gyroscope_distance_avg: double (nullable = true)\n",
            " |-- acc_highway_sq_of_diff: double (nullable = true)\n",
            "\n"
          ]
        }
      ],
      "source": [
        "trip_df.printSchema()"
      ]
    },
    {
      "cell_type": "code",
      "execution_count": 175,
      "metadata": {
        "colab": {
          "base_uri": "https://localhost:8080/"
        },
        "id": "k28K__ai8qCX",
        "outputId": "0e075bf3-1706-438b-e352-101854f40158"
      },
      "outputs": [
        {
          "output_type": "stream",
          "name": "stdout",
          "text": [
            "+---------+--------------------+--------------------+------------+------------+----------------------+----------------------+\n",
            "|driver_id|             trip_id|          started_at|acc_3050_avg|acc_5090_avg|gyroscope_distance_avg|acc_highway_sq_of_diff|\n",
            "+---------+--------------------+--------------------+------------+------------+----------------------+----------------------+\n",
            "|       29|1951302F-5B1C-46E...|2021-04-29 13:29:...|     1.49032|         0.0|                0.1072|                   0.0|\n",
            "|       29|54CE41D7-ED04-40B...|2021-08-18 15:11:...|     2.14824|     1.45594|             0.0763101|                   0.0|\n",
            "|       29|9BEFD512-2CCA-48C...|2021-08-18 17:13:...|        null|        null|                  null|                  null|\n",
            "|       29|B18D6BE3-D55B-4C4...|2021-07-12 10:12:...|     1.35283|     1.03636|               0.38295|                   0.0|\n",
            "|       29|EF1CDA67-0E73-406...|2021-09-26 18:16:...|    0.771148|         0.0|             0.0512305|                   0.0|\n",
            "|       64|68296059-ED6E-425...|2021-06-19 17:57:...|        null|        null|                  null|                  null|\n",
            "|       89|1A2AC6FD-4875-43D...|2020-04-26 16:22:...|    0.782857|         0.0|             0.0775677|                  null|\n",
            "|       29|14A78800-B601-4F6...|2021-05-22 10:50:...|     2.43692|        1.32|             0.0449526|                   0.0|\n",
            "|       29|56FFA228-3341-47C...|2021-08-02 11:38:...|     1.43727|    0.831923|             0.0586232|                   0.0|\n",
            "|       29|735BD532-2121-42E...|2020-12-24 12:19:...|        3.18|       0.936|              0.264081|                   0.0|\n",
            "|       29|7C3BDC1F-213C-401...|2021-10-09 14:49:...|     2.42118|     2.23756|              0.100504|               1.66102|\n",
            "|       29|8BDE9F09-C4F2-4EE...|2021-11-05 10:04:...|      2.7217|     3.02182|              0.102863|                   0.0|\n",
            "|       29|A3E80BF4-A031-4E7...|2021-09-06 17:37:...|     1.36235|         1.2|              0.114736|                   0.0|\n",
            "|       29|D9006F35-B536-421...|2021-06-27 21:05:...|     1.28052|     0.59395|               0.11839|                   0.0|\n",
            "|       29|DE6A5887-2F36-49A...|2021-08-14 23:12:...|        1.38|    0.703729|              0.072488|                   0.0|\n",
            "|       29|E9D8FC72-10B6-44B...|2021-05-27 15:18:...|        null|        null|                  null|                  null|\n",
            "|       47|945DA130-4367-40C...|2020-05-23 18:39:...|    0.716923|         0.0|             0.0490174|                  null|\n",
            "|       29|7E5AD301-50E8-497...|2021-04-25 07:18:...|       0.864|         0.0|             0.0830361|                   0.0|\n",
            "|       29|8DEB5969-BC5A-42D...|2021-05-15 15:03:...|      0.9624|         0.0|             0.0524632|                   0.0|\n",
            "|       29|904EA102-C98A-4CD...|2021-08-19 16:08:...|     1.13096|     1.24727|              0.317929|                   0.0|\n",
            "+---------+--------------------+--------------------+------------+------------+----------------------+----------------------+\n",
            "only showing top 20 rows\n",
            "\n"
          ]
        }
      ],
      "source": [
        "trip_df.dropDuplicates().show()"
      ]
    },
    {
      "cell_type": "code",
      "execution_count": 176,
      "metadata": {
        "colab": {
          "base_uri": "https://localhost:8080/",
          "height": 160
        },
        "id": "Js7AEUp28qbK",
        "outputId": "6958ffbe-be6c-4051-c237-199a37c6630e"
      },
      "outputs": [
        {
          "output_type": "execute_result",
          "data": {
            "text/plain": [
              "+-------+------------------+--------------------+--------------------+------------------+------------------+----------------------+----------------------+\n",
              "|summary|         driver_id|             trip_id|          started_at|      acc_3050_avg|      acc_5090_avg|gyroscope_distance_avg|acc_highway_sq_of_diff|\n",
              "+-------+------------------+--------------------+--------------------+------------------+------------------+----------------------+----------------------+\n",
              "|  count|              1329|                1329|                1329|              1154|              1154|                  1154|                   981|\n",
              "|   mean| 42.12716328066215|                null|                null|1.6466904757365664|1.0337048396880402|   0.12307810303292882|    0.3103469480122326|\n",
              "| stddev|22.818520362642648|                null|                null|0.6946612782267817|0.8469978320510017|   0.09209712893816752|    0.8690187539767591|\n",
              "|    min|                17|003EBA72-BCD4-494...|2020-04-23 12:45:...|               0.0|               0.0|             0.0189641|                   0.0|\n",
              "|    max|                89|TEST_P20210619083703|2021-11-19 08:29:...|           5.10462|              12.6|              0.835739|               6.98592|\n",
              "+-------+------------------+--------------------+--------------------+------------------+------------------+----------------------+----------------------+"
            ],
            "text/html": [
              "<table border='1'>\n",
              "<tr><th>summary</th><th>driver_id</th><th>trip_id</th><th>started_at</th><th>acc_3050_avg</th><th>acc_5090_avg</th><th>gyroscope_distance_avg</th><th>acc_highway_sq_of_diff</th></tr>\n",
              "<tr><td>count</td><td>1329</td><td>1329</td><td>1329</td><td>1154</td><td>1154</td><td>1154</td><td>981</td></tr>\n",
              "<tr><td>mean</td><td>42.12716328066215</td><td>null</td><td>null</td><td>1.6466904757365664</td><td>1.0337048396880402</td><td>0.12307810303292882</td><td>0.3103469480122326</td></tr>\n",
              "<tr><td>stddev</td><td>22.818520362642648</td><td>null</td><td>null</td><td>0.6946612782267817</td><td>0.8469978320510017</td><td>0.09209712893816752</td><td>0.8690187539767591</td></tr>\n",
              "<tr><td>min</td><td>17</td><td>003EBA72-BCD4-494...</td><td>2020-04-23 12:45:...</td><td>0.0</td><td>0.0</td><td>0.0189641</td><td>0.0</td></tr>\n",
              "<tr><td>max</td><td>89</td><td>TEST_P20210619083703</td><td>2021-11-19 08:29:...</td><td>5.10462</td><td>12.6</td><td>0.835739</td><td>6.98592</td></tr>\n",
              "</table>\n"
            ]
          },
          "metadata": {},
          "execution_count": 176
        }
      ],
      "source": [
        "trip_df.describe()"
      ]
    },
    {
      "cell_type": "code",
      "execution_count": 177,
      "metadata": {
        "colab": {
          "base_uri": "https://localhost:8080/"
        },
        "id": "bvotbboP8qid",
        "outputId": "e1009437-a8bc-40b0-a6a8-ebf795a52c5a"
      },
      "outputs": [
        {
          "output_type": "execute_result",
          "data": {
            "text/plain": [
              "1329"
            ]
          },
          "metadata": {},
          "execution_count": 177
        }
      ],
      "source": [
        "trip_df.count()"
      ]
    },
    {
      "cell_type": "code",
      "execution_count": 178,
      "metadata": {
        "colab": {
          "base_uri": "https://localhost:8080/"
        },
        "id": "jxvabI7k9XP3",
        "outputId": "c9b14f62-7ee6-4eb4-bda2-893d54a1b49f"
      },
      "outputs": [
        {
          "output_type": "execute_result",
          "data": {
            "text/plain": [
              "1329"
            ]
          },
          "metadata": {},
          "execution_count": 178
        }
      ],
      "source": [
        "trip_df.dropDuplicates().count()"
      ]
    },
    {
      "cell_type": "code",
      "execution_count": 179,
      "metadata": {
        "id": "NPMDjhkby-0i"
      },
      "outputs": [],
      "source": [
        "trip_df = trip_df.na.drop(subset=[\"acc_3050_avg\", \"acc_5090_avg\", \"gyroscope_distance_avg\",\"acc_highway_sq_of_diff\"])\n",
        "  #  .show(truncate=False)"
      ]
    },
    {
      "cell_type": "code",
      "execution_count": 180,
      "metadata": {
        "colab": {
          "base_uri": "https://localhost:8080/"
        },
        "id": "DBEUfMqC3ioi",
        "outputId": "0dbe958f-6523-486c-9d57-39582b396298"
      },
      "outputs": [
        {
          "output_type": "execute_result",
          "data": {
            "text/plain": [
              "981"
            ]
          },
          "metadata": {},
          "execution_count": 180
        }
      ],
      "source": [
        "trip_df.count()"
      ]
    },
    {
      "cell_type": "markdown",
      "source": [
        "Groupy and get the sum per driver"
      ],
      "metadata": {
        "id": "ksSYwx24BNH2"
      }
    },
    {
      "cell_type": "code",
      "execution_count": 181,
      "metadata": {
        "id": "9gQV_r3jAn1W",
        "colab": {
          "base_uri": "https://localhost:8080/"
        },
        "outputId": "6dccb71f-53b7-4f38-f39e-49cb6de6e7cf"
      },
      "outputs": [
        {
          "output_type": "stream",
          "name": "stdout",
          "text": [
            "+--------------------+---------+---------------------------+---------------------------+-----------------+-----------------+\n",
            "|             trip_id|driver_id|sum(gyroscope_distance_avg)|sum(acc_highway_sq_of_diff)|sum(acc_5090_avg)|sum(acc_3050_avg)|\n",
            "+--------------------+---------+---------------------------+---------------------------+-----------------+-----------------+\n",
            "|7B0B4DB8-9BFA-4CA...|       29|                   0.311806|                        0.0|              0.0|             1.32|\n",
            "|8CC77450-6399-464...|       29|                   0.340049|                        0.0|             0.57|          1.45846|\n",
            "|7C3BDC1F-213C-401...|       29|                   0.100504|                    1.66102|          2.23756|          2.42118|\n",
            "|B5078781-D63D-411...|       29|                   0.234943|                   0.825221|            1.404|              1.6|\n",
            "|TEST_D20210619182959|       64|                   0.122699|                   0.740295|         0.727679|          1.34972|\n",
            "|1FC20B4F-47BB-467...|       89|                  0.0423779|                        0.0|            0.752|          1.38987|\n",
            "|018FBBE9-DD3B-472...|       29|                  0.0557309|                        0.0|          1.03822|          1.62303|\n",
            "|04925E7D-81AC-482...|       29|                  0.0835431|                        0.0|          1.21254|          1.19858|\n",
            "|14B1CFC0-3250-4F2...|       29|                   0.201476|                        0.0|              0.0|          1.07294|\n",
            "|4336A606-6C13-4E4...|       29|                  0.0643523|                    1.82073|          1.86429|          2.52862|\n",
            "|70F33E25-73AF-401...|       29|                   0.235009|                        0.0|              0.0|         0.989062|\n",
            "|BA5E0671-D51A-463...|       29|                  0.0888923|                        0.0|         0.892662|          1.36807|\n",
            "|DBFDA07F-DE77-4C3...|       29|                   0.115214|                        0.0|              0.0|            0.975|\n",
            "|F403D683-1390-4BA...|       29|                  0.0952338|                        0.0|            1.136|          1.28837|\n",
            "|01BF788D-F69D-4D9...|       89|                  0.0877709|                        0.0|         0.970435|          1.21103|\n",
            "|7D86172F-DECD-434...|       29|                  0.0555186|                        0.0|              2.0|          1.04523|\n",
            "|850FED6E-88CA-48D...|       29|                  0.0505225|                     1.5362|           1.8883|          1.66186|\n",
            "|91737F30-5DB1-42E...|       29|                    0.30335|                        0.0|          1.44068|            1.042|\n",
            "|C2FA5920-F356-443...|       29|                    0.14928|                        0.0|         0.951037|          1.39733|\n",
            "|C32DB55E-2191-4D6...|       29|                  0.0768851|                        0.0|             2.04|           1.0214|\n",
            "+--------------------+---------+---------------------------+---------------------------+-----------------+-----------------+\n",
            "only showing top 20 rows\n",
            "\n"
          ]
        }
      ],
      "source": [
        "exprs = {x: \"sum\" for x in trip_df.columns[3:]}\n",
        "trip_df.groupBy(\"trip_id\",\"driver_id\").agg(exprs).show()"
      ]
    },
    {
      "cell_type": "code",
      "source": [
        "trip_df.orderBy(trip_df.driver_id.desc(),trip_df.started_at.desc())"
      ],
      "metadata": {
        "id": "xyM0yiIelMEy",
        "colab": {
          "base_uri": "https://localhost:8080/",
          "height": 525
        },
        "outputId": "2acc156a-4d2b-4792-9967-6241b289dbee"
      },
      "execution_count": 182,
      "outputs": [
        {
          "output_type": "execute_result",
          "data": {
            "text/plain": [
              "+---------+--------------------+--------------------+------------+------------+----------------------+----------------------+\n",
              "|driver_id|             trip_id|          started_at|acc_3050_avg|acc_5090_avg|gyroscope_distance_avg|acc_highway_sq_of_diff|\n",
              "+---------+--------------------+--------------------+------------+------------+----------------------+----------------------+\n",
              "|       89|423E8537-DAA1-42E...|2021-11-19 08:29:...|      1.5216|     1.22923|             0.0894158|                0.9045|\n",
              "|       89|2186F7E8-6859-44E...|2021-11-11 21:02:...|     1.57233|     1.03448|             0.0755129|                   0.0|\n",
              "|       89|5EE71E65-7590-40D...|2021-11-11 17:27:...|     1.55613|       2.337|             0.0779973|                   0.0|\n",
              "|       89|830D844D-E39C-441...|2021-11-11 07:45:...|     1.26323|     1.31321|             0.0852725|               3.01935|\n",
              "|       89|454BE33C-84DB-424...|2021-11-04 19:46:...|     1.19023|     0.78895|             0.0782507|              0.545582|\n",
              "|       89|D8132ED3-8B6A-43D...|2021-11-04 17:32:...|     1.50696|        2.64|             0.0889523|                   0.0|\n",
              "|       89|9AA8842C-6339-4D2...|2021-11-04 17:28:...|     1.48174|         0.0|               0.10475|                   0.0|\n",
              "|       89|30755727-254F-4C9...|2021-11-04 17:28:...|      1.6906|     1.62323|             0.0912253|                   0.0|\n",
              "|       89|0A40A18D-8911-4EC...|2021-10-15 06:45:...|     1.33071|    0.806846|             0.0649742|                   0.0|\n",
              "|       89|4E682BA3-1500-458...|2021-10-15 06:45:...|     1.49938|     1.16118|             0.0994467|                   0.0|\n",
              "|       89|9843B743-8C00-431...|2021-10-14 07:20:...|     1.46038|     1.06623|             0.0695305|                   0.0|\n",
              "|       89|56EF9ACB-EBB9-489...|2021-10-14 07:20:...|     1.27261|     1.04437|             0.0361707|                   0.0|\n",
              "|       89|84F43EF0-8DC4-4E3...|2021-10-14 07:20:...|     1.45483|        1.26|             0.0810048|                   0.0|\n",
              "|       89|684ED0B3-F885-427...|2021-10-07 17:11:...|     1.63241|     1.14568|             0.0732811|                2.5205|\n",
              "|       89|6A6EE398-7259-425...|2021-10-07 07:48:...|     1.49018|     1.82769|             0.0711471|                   0.0|\n",
              "|       89|E25A2759-E59A-4E0...|2021-10-07 07:48:...|    0.711111|         0.0|              0.122122|                   0.0|\n",
              "|       89|1A68D452-CF0E-480...|2021-09-30 18:50:...|     1.74235|     1.74581|             0.0528258|                   0.0|\n",
              "|       89|868C9933-AA54-4B2...|2021-09-30 18:50:...|     1.92226|       1.648|             0.0705081|                1.8792|\n",
              "|       89|B6164864-5C29-452...|2021-09-30 18:50:...|     1.68876|     1.60594|             0.0702267|                   0.0|\n",
              "|       89|AA983420-69D1-46E...|2021-09-23 19:00:...|     1.50815|     1.52254|             0.0677026|               2.25295|\n",
              "+---------+--------------------+--------------------+------------+------------+----------------------+----------------------+\n",
              "only showing top 20 rows"
            ],
            "text/html": [
              "<table border='1'>\n",
              "<tr><th>driver_id</th><th>trip_id</th><th>started_at</th><th>acc_3050_avg</th><th>acc_5090_avg</th><th>gyroscope_distance_avg</th><th>acc_highway_sq_of_diff</th></tr>\n",
              "<tr><td>89</td><td>423E8537-DAA1-42E...</td><td>2021-11-19 08:29:...</td><td>1.5216</td><td>1.22923</td><td>0.0894158</td><td>0.9045</td></tr>\n",
              "<tr><td>89</td><td>2186F7E8-6859-44E...</td><td>2021-11-11 21:02:...</td><td>1.57233</td><td>1.03448</td><td>0.0755129</td><td>0.0</td></tr>\n",
              "<tr><td>89</td><td>5EE71E65-7590-40D...</td><td>2021-11-11 17:27:...</td><td>1.55613</td><td>2.337</td><td>0.0779973</td><td>0.0</td></tr>\n",
              "<tr><td>89</td><td>830D844D-E39C-441...</td><td>2021-11-11 07:45:...</td><td>1.26323</td><td>1.31321</td><td>0.0852725</td><td>3.01935</td></tr>\n",
              "<tr><td>89</td><td>454BE33C-84DB-424...</td><td>2021-11-04 19:46:...</td><td>1.19023</td><td>0.78895</td><td>0.0782507</td><td>0.545582</td></tr>\n",
              "<tr><td>89</td><td>D8132ED3-8B6A-43D...</td><td>2021-11-04 17:32:...</td><td>1.50696</td><td>2.64</td><td>0.0889523</td><td>0.0</td></tr>\n",
              "<tr><td>89</td><td>9AA8842C-6339-4D2...</td><td>2021-11-04 17:28:...</td><td>1.48174</td><td>0.0</td><td>0.10475</td><td>0.0</td></tr>\n",
              "<tr><td>89</td><td>30755727-254F-4C9...</td><td>2021-11-04 17:28:...</td><td>1.6906</td><td>1.62323</td><td>0.0912253</td><td>0.0</td></tr>\n",
              "<tr><td>89</td><td>0A40A18D-8911-4EC...</td><td>2021-10-15 06:45:...</td><td>1.33071</td><td>0.806846</td><td>0.0649742</td><td>0.0</td></tr>\n",
              "<tr><td>89</td><td>4E682BA3-1500-458...</td><td>2021-10-15 06:45:...</td><td>1.49938</td><td>1.16118</td><td>0.0994467</td><td>0.0</td></tr>\n",
              "<tr><td>89</td><td>9843B743-8C00-431...</td><td>2021-10-14 07:20:...</td><td>1.46038</td><td>1.06623</td><td>0.0695305</td><td>0.0</td></tr>\n",
              "<tr><td>89</td><td>56EF9ACB-EBB9-489...</td><td>2021-10-14 07:20:...</td><td>1.27261</td><td>1.04437</td><td>0.0361707</td><td>0.0</td></tr>\n",
              "<tr><td>89</td><td>84F43EF0-8DC4-4E3...</td><td>2021-10-14 07:20:...</td><td>1.45483</td><td>1.26</td><td>0.0810048</td><td>0.0</td></tr>\n",
              "<tr><td>89</td><td>684ED0B3-F885-427...</td><td>2021-10-07 17:11:...</td><td>1.63241</td><td>1.14568</td><td>0.0732811</td><td>2.5205</td></tr>\n",
              "<tr><td>89</td><td>6A6EE398-7259-425...</td><td>2021-10-07 07:48:...</td><td>1.49018</td><td>1.82769</td><td>0.0711471</td><td>0.0</td></tr>\n",
              "<tr><td>89</td><td>E25A2759-E59A-4E0...</td><td>2021-10-07 07:48:...</td><td>0.711111</td><td>0.0</td><td>0.122122</td><td>0.0</td></tr>\n",
              "<tr><td>89</td><td>1A68D452-CF0E-480...</td><td>2021-09-30 18:50:...</td><td>1.74235</td><td>1.74581</td><td>0.0528258</td><td>0.0</td></tr>\n",
              "<tr><td>89</td><td>868C9933-AA54-4B2...</td><td>2021-09-30 18:50:...</td><td>1.92226</td><td>1.648</td><td>0.0705081</td><td>1.8792</td></tr>\n",
              "<tr><td>89</td><td>B6164864-5C29-452...</td><td>2021-09-30 18:50:...</td><td>1.68876</td><td>1.60594</td><td>0.0702267</td><td>0.0</td></tr>\n",
              "<tr><td>89</td><td>AA983420-69D1-46E...</td><td>2021-09-23 19:00:...</td><td>1.50815</td><td>1.52254</td><td>0.0677026</td><td>2.25295</td></tr>\n",
              "</table>\n",
              "only showing top 20 rows\n"
            ]
          },
          "metadata": {},
          "execution_count": 182
        }
      ]
    },
    {
      "cell_type": "markdown",
      "source": [
        "2 rolling windows\n",
        "1) windowDept => partitionBy(\"driver_id\") => yield the 50 rows per driver \n",
        "2) w => get the previous instances of the last trip and calc avg and std"
      ],
      "metadata": {
        "id": "ibPv0_SYGjNL"
      }
    },
    {
      "cell_type": "code",
      "source": [
        "windowDept = Window.partitionBy(\"driver_id\").orderBy(col(\"started_at\").desc())\n",
        "\n",
        "w = (Window()\n",
        "     .partitionBy(\"driver_id\")\n",
        "    #  .orderBy(F.col(\"started_at\").cast('long').desc())\n",
        "     .orderBy(F.col(\"rnk\").desc())\n",
        "     .rangeBetween(-sys.maxsize, 0)\n",
        "     )\n",
        "\n",
        "trip_df = trip_df.withColumn(\"row\",row_number().over(windowDept)).filter(col(\"row\") <= 50).withColumn(\n",
        "  \"rnk\",\n",
        "  F.dense_rank().over(Window.partitionBy().orderBy(trip_df.driver_id.desc(),trip_df.started_at.desc()))\n",
        ").withColumn('acc_3050_avg_rolling_avg',   F.avg(\"acc_3050_avg\").over(w)).withColumn('acc_5090_rolling_avg',   F.avg(\"acc_5090_avg\").over(w)).withColumn('gyroscope_distance_rolling_avg',   F.avg(\"gyroscope_distance_avg\").over(w)).withColumn('acc_highway_sq_of_diff_avg',   F.avg(\"acc_highway_sq_of_diff\").over(w)).withColumn('acc_3050_avg_rolling_std',   F.stddev(\"acc_3050_avg\").over(w)).withColumn('acc_5090_rolling_std',   F.stddev(\"acc_5090_avg\").over(w)).withColumn('gyroscope_distance_rolling_std',   F.stddev(\"gyroscope_distance_avg\").over(w)).withColumn('acc_highway_sq_of_diff_std',   F.stddev(\"acc_highway_sq_of_diff\").over(w))\n"
      ],
      "metadata": {
        "id": "ERRc71hLHW0A"
      },
      "execution_count": 190,
      "outputs": []
    },
    {
      "cell_type": "code",
      "source": [
        "trip_df.show(900)"
      ],
      "metadata": {
        "colab": {
          "base_uri": "https://localhost:8080/"
        },
        "id": "0LqqqUZEHXz1",
        "outputId": "ae9548af-7a0a-449e-f4dc-98eadd7b410a"
      },
      "execution_count": 191,
      "outputs": [
        {
          "output_type": "stream",
          "name": "stdout",
          "text": [
            "+---------+--------------------+--------------------+------------+------------+----------------------+----------------------+---+---+------------------------+--------------------+------------------------------+--------------------------+------------------------+--------------------+------------------------------+--------------------------+\n",
            "|driver_id|             trip_id|          started_at|acc_3050_avg|acc_5090_avg|gyroscope_distance_avg|acc_highway_sq_of_diff|rnk|row|acc_3050_avg_rolling_avg|acc_5090_rolling_avg|gyroscope_distance_rolling_avg|acc_highway_sq_of_diff_avg|acc_3050_avg_rolling_std|acc_5090_rolling_std|gyroscope_distance_rolling_std|acc_highway_sq_of_diff_std|\n",
            "+---------+--------------------+--------------------+------------+------------+----------------------+----------------------+---+---+------------------------+--------------------+------------------------------+--------------------------+------------------------+--------------------+------------------------------+--------------------------+\n",
            "|       25|68D01DEE-0762-43F...|2020-06-24 22:56:...|       1.248|         0.0|             0.0839204|                   0.0|149|  3|                   1.248|                 0.0|                     0.0839204|                       0.0|                    null|                null|                          null|                      null|\n",
            "|       25|B9787774-A4A5-4D7...|2020-06-24 22:56:...|     2.42077|    0.854118|             0.0577057|                   0.0|148|  2|      1.8343850000000002|            0.427059|                    0.07081305|                       0.0|      0.8292736197721474|  0.6039526297334916|           0.01853659213677099|                       0.0|\n",
            "|       25|B9FC3426-54D7-422...|2020-06-25 05:42:...|     1.01929|       0.645|             0.0518536|                   0.0|147|  1|      1.5626866666666668| 0.49970600000000004|           0.06449323333333333|                       0.0|      0.7518692181711747|  0.4452102304619695|           0.01707696905552427|                       0.0|\n",
            "|       29|897A78C8-EF6C-4D2...|2021-10-24 11:29:...|     1.37095|    0.892606|              0.199229|                   0.0|146| 50|                 1.37095|            0.892606|                      0.199229|                       0.0|                    null|                null|                          null|                      null|\n",
            "|       29|0F5548E4-81BD-467...|2021-10-24 11:29:...|     2.01051|     1.43352|              0.231637|                   0.0|145| 49|      1.6907299999999998|            1.163063|           0.21543299999999999|                       0.0|     0.45223721297566843|  0.3824839574387401|          0.022915916564693647|                       0.0|\n",
            "|       29|FCB8C9D5-B8BA-4D1...|2021-10-24 11:32:...|     1.90822|     1.46768|              0.127921|                   0.0|144| 48|      1.7632266666666665|            1.264602|            0.1862623333333333|                       0.0|     0.34354992131178463| 0.32261043754348684|           0.05305990008785667|                       0.0|\n",
            "|       29|9CAA9BC1-388F-47B...|2021-10-25 09:29:...|     2.14773|       1.302|             0.0803755|                   0.0|143| 47|               1.8593525|           1.2739515|                   0.159790625|                       0.0|      0.3400662714212238|  0.2640731884831678|            0.0684098484617712|                       0.0|\n",
            "|       29|B6E32C47-0844-4AD...|2021-10-25 09:29:...|       2.468|     3.32421|              0.107376|                   0.0|142| 46|                1.981082|           1.6840032|                     0.1493077|                       0.0|      0.4010288737360442|  0.9449936349104157|             0.063713335399271|                       0.0|\n",
            "|       29|81117A1F-3BB3-415...|2021-10-26 19:32:...|       1.488|        0.69|             0.0532812|                   0.0|141| 45|      1.8989016666666665|            1.518336|           0.13330328333333333|                       0.0|      0.4113161426161958|  0.9375948501095769|           0.06916906391734434|                       0.0|\n",
            "|       29|9BB54228-4899-43F...|2021-10-27 13:19:...|      3.0975|     2.62286|              0.104367|                   0.0|140| 44|                 2.07013|   1.676125142857143|           0.12916952857142858|                       0.0|      0.5884030386846532|  0.9522877616658088|           0.06408261596061535|                       0.0|\n",
            "|       29|26F8028E-93D8-4D0...|2021-10-27 13:19:...|     1.87907|     2.22923|             0.0473977|                   0.0|139| 43|      2.0462474999999998|          1.74526325|                    0.11894805|                       0.0|      0.5489274930977419|  0.9030738180737022|           0.06599815253319054|                       0.0|\n",
            "|       29|ECE8FFBF-F1E4-4D9...|2021-10-27 13:19:...|     2.09032|     1.56516|             0.0581726|                   0.0|138| 42|       2.051144444444444|  1.7252517777777778|           0.11219522222222222|                       0.0|      0.5136847663477844|  0.8468787764275619|           0.06497455476982465|                       0.0|\n",
            "|       29|129D8E1F-28C3-4D0...|2021-10-27 13:19:...|     1.78789|     1.43623|              0.116822|                   0.0|137| 41|                2.024819|           1.6963496|                     0.1126579|                       0.0|      0.4914094158291593|  0.8036589606249103|           0.06127606792726396|                       0.0|\n",
            "|       29|E17CCE2E-0F7F-4E1...|2021-10-29 07:05:...|     1.50164|    0.756437|               0.23873|                   0.0|136| 40|      1.9772572727272724|  1.6109029999999998|                      0.124119|                       0.0|     0.49215667168272564|  0.8133838506268735|           0.06945650290558833|                       0.0|\n",
            "|       29|316EDCF5-156F-454...|2021-10-29 17:59:...|     2.25044|     1.55943|               0.19883|                   0.0|135| 39|      2.0000224999999996|   1.606613583333333|           0.13034491666666667|                       0.0|      0.4758333962089329|  0.7756734062730101|           0.06964758497389598|                       0.0|\n",
            "|       29|D69AD56B-1178-456...|2021-10-29 17:59:...|     1.80688|     1.08064|              0.195488|                5.5761|134| 38|      1.9851653846153843|  1.5661540769230766|           0.13535592307692307|        0.4289307692307692|     0.45871433697192177|  0.7568426269701495|           0.06908680283868926|          1.54653188208575|\n",
            "|       29|03538009-A101-449...|2021-10-30 10:32:...|     1.48271|     1.09943|             0.0980879|                   0.0|133| 37|       1.949275714285714|  1.5328166428571426|           0.13269392142857142|       0.39829285714285717|      0.4607230580413673|    0.73777217271517|           0.06711960273265556|        1.4902754110278698|\n",
            "|       29|E7B6EF39-5B1C-438...|2021-10-30 10:36:...|     1.86522|    0.953563|             0.0871854|                   0.0|132| 36|      1.9436719999999998|   1.494199733333333|           0.12966002000000001|                   0.37174|     0.44449400684052304|  0.7264968253825503|            0.0657367537321094|        1.4397428291191452|\n",
            "|       29|1F8E6D0C-0084-4BA...|2021-10-31 16:40:...|     1.67333|     1.52047|             0.0529368|                   0.0|131| 35|      1.9267756249999999|  1.4958416249999997|                 0.12486481875|                0.34850625|     0.43470801747025184|  0.7018933402377576|           0.06634105831937682|                  1.394025|\n",
            "|       29|B85FB1E7-C312-48C...|2021-10-31 16:41:...|     2.28478|     1.43954|              0.137826|               2.02953|130| 34|      1.9478347058823526|  1.4925297647058822|            0.1256272411764706|       0.44738999999999995|     0.42976692783876547|   0.679742475404889|            0.0643113280302162|        1.4099911441477213|\n",
            "|       29|E0FE59A2-2DFE-4D0...|2021-11-01 17:01:...|       1.584|        2.84|              0.136928|                   0.0|129| 33|      1.9276216666666666|   1.567389222222222|           0.12625506111111112|                  0.422535|      0.4256631700859814|  0.7319435236202276|          0.062447984433391474|         1.371950915749711|\n",
            "|       29|9AB2B760-6740-444...|2021-11-03 12:01:...|     2.18571|        1.58|              0.085722|                   0.0|128| 32|      1.9412052631578947|   1.568052947368421|           0.12412174210526317|       0.40029631578947367|      0.4178861557007074|  0.7113271294523649|           0.06139680683421678|        1.3368158180010792|\n",
            "|       29|22663DF6-37BD-496...|2021-11-03 12:03:...|     2.91429|     1.90462|             0.0962298|                   0.0|127| 31|      1.9898595000000001|           1.5848813|           0.12272714500000001|                 0.3802815|     0.46128358180961226|  0.6964332681819104|           0.06008383810300293|        1.3042360709395124|\n",
            "|       29|8BDE9F09-C4F2-4EE...|2021-11-05 10:04:...|      2.7217|     3.02182|              0.102863|                   0.0|126| 29|      1.9832313636363637|  1.5781566363636363|           0.11956776818181819|        0.3457104545454545|      0.5046346401704471|  0.8103794919961026|           0.05824031277634145|        1.2456120588938149|\n",
            "|       29|9BFA1EEC-A455-460...|2021-11-05 10:04:...|      1.1122|         0.0|              0.073085|                   0.0|126| 30|      1.9832313636363637|  1.5781566363636363|           0.11956776818181819|        0.3457104545454545|      0.5046346401704471|  0.8103794919961026|           0.05824031277634145|        1.2456120588938149|\n",
            "|       29|7BD6B9A6-6565-4C8...|2021-11-06 06:05:...|         1.4|    0.740294|             0.0747873|              0.717517|125| 28|      1.9578734782608695|  1.5417278260869565|           0.11762079130434784|        0.3618759565217391|      0.5078093696869892|  0.8107937973593673|          0.057662307868737016|         1.219440391295289|\n",
            "|       29|C2D37B2E-3634-48D...|2021-11-06 06:05:...|     1.57953|     2.24727|               0.24538|               1.32812|124| 27|      1.9421091666666666|  1.5711254166666666|           0.12294409166666669|       0.40213612499999996|      0.5026160819319918|  0.8059440405540581|           0.06213275871840817|        1.2088351111687186|\n",
            "|       29|5DE02CC6-4BA6-4CB...|2021-11-06 06:05:...|     3.27987|     1.18627|              0.193322|               1.18779|123| 26|               1.9956196|  1.5557311999999999|                   0.125759208|       0.43356227999999997|      0.5600724350138412|  0.7927205913727842|           0.06243195002667516|        1.1937695099403793|\n",
            "|       29|59D0B15F-7EC1-4BB...|2021-11-06 13:43:...|     1.06643|    0.846154|             0.0578378|                   0.0|122| 25|      1.9598815384615382|   1.528439769230769|           0.12314684615384618|        0.4168868076923076|      0.5782225542726075|  0.7890722879281622|           0.06260410324862248|        1.1727370007561633|\n",
            "|       29|2FA47B62-5FD9-42B...|2021-11-06 13:44:...|     2.63596|     2.10947|             0.0930857|                   0.0|121| 24|      1.9849214814814813|  1.5499594074074072|           0.12203347037037039|       0.40144655555555553|      0.5817310433505511|  0.7817871404706339|           0.06166037461681538|         1.152758557624153|\n",
            "|       29|1D64F1AD-021E-496...|2021-11-06 13:44:...|     1.77184|      1.5025|             0.0475242|                   0.0|120| 23|      1.9773114285714282|  1.5482644285714284|           0.11937242500000002|        0.3871091785714285|      0.5722751323912644|  0.7672254343193727|           0.06212454801003846|         1.133750956436039|\n",
            "|       29|E9035F86-482A-4AD...|2021-11-06 23:00:...|     2.00903|       1.425|             0.0725529|                   0.0|119| 22|       1.978405172413793|  1.5440139310344825|           0.11775795862068966|        0.3737605862068965|      0.5619938900571575|  0.7537480536577065|          0.061621507417520316|         1.115639621095691|\n",
            "|       29|4E1F2679-A464-4E6...|2021-11-06 23:00:...|     2.15745|     1.59626|              0.058955|                   0.0|118| 21|       1.984373333333333|  1.5457554666666664|           0.11579786000000002|       0.36130189999999995|      0.5531860132019779|  0.7406998149078102|           0.06149415819854199|        1.0983575481910706|\n",
            "|       29|D89D03E8-1921-44C...|2021-11-07 12:28:...|     2.19568|         0.0|             0.0722695|                   0.0|117| 20|      1.9911896774193547|   1.495892387096774|           0.11439371935483872|       0.34964699999999993|       0.545210612494437|  0.7793744092375062|          0.060963926893606066|        1.0818443808578324|\n",
            "|       29|4B9AB5F1-CD0A-4AB...|2021-11-07 13:41:...|     1.45745|        0.84|             0.0692231|                   0.0|116| 19|      1.9745103124999999|          1.47539575|           0.11298213750000001|       0.33872053124999996|      0.5445807491798793|  0.7754184162582909|           0.06050183529472073|        1.0660456104356095|\n",
            "|       29|3BBA5D59-3133-401...|2021-11-07 18:42:...|    0.927059|        1.68|              0.056786|                   0.0|115| 18|      1.9427693636363637|  1.4815958787878787|           0.11127922424242426|        0.3284562727272727|      0.5661691751700536|  0.7640369684868313|           0.06034715792222028|        1.0509118872524255|\n",
            "|       29|4FA0BBB7-27E8-430...|2021-11-07 18:42:...|    0.702222|         0.0|             0.0430732|                   0.0|114| 17|      1.9062826764705885|  1.4380195294117646|           0.10927316470588236|         0.318795794117647|      0.5967390022614945|  0.7941193609859168|          0.060566061957631735|        1.0363984244822644|\n",
            "|       29|50F4E376-06E0-4F8...|2021-11-10 18:50:...|     2.28462|     2.94857|              0.105931|                   0.0|113| 16|      1.9170923142857146|  1.4811781142857143|            0.1091776742857143|       0.30968734285714283|      0.5913659376690731|   0.822964743844251|          0.059671411603845065|        1.0224644813805326|\n",
            "|       29|1016D6B4-A5A8-44E...|2021-11-10 18:50:...|     1.12163|         0.0|             0.0525074|                   0.0|112| 15|      1.8949961388888892|  1.4400342777777777|           0.10760350000000002|       0.30108491666666665|      0.5977445339327857|  0.8478571345764605|           0.05956637148931793|        1.0090729142718613|\n",
            "|       29|354DA2AD-A1F8-46E...|2021-11-10 18:52:...|     2.31273|       2.664|             0.0744449|                   0.0|111| 14|      1.9062862432432435|  1.4731144324324326|           0.10670732162162164|       0.29294748648648644|      0.5933715763532722|  0.8598734295848928|            0.0589856663774492|         0.996189785447187|\n",
            "|       29|EC859055-24EB-4AA...|2021-11-12 18:31:...|     2.38247|     2.64105|             0.0961381|               5.13971|110| 13|      1.9188173947368423|  1.5038495789473685|           0.10642918421052631|        0.4204938684210526|      0.5903736250304064|  0.8690774878496204|          0.058208359880098794|         1.258475128665322|\n",
            "|       29|5C94D082-5C97-4EB...|2021-11-12 18:32:...|       4.068|     2.01913|             0.0321914|               3.43789|109| 12|      1.9739246410256412|  1.5170618974358974|            0.1045256512820513|       0.49786299999999994|       0.676612459425338|  0.8615262774974238|          0.058654613821115066|        1.3324920571195873|\n",
            "|       29|7604BD00-67CF-485...|2021-11-14 18:10:...|     2.80615|        1.92|             0.0672914|                   0.0|108| 11|      1.9947302750000002|          1.52713535|           0.10359479500000002|       0.48541642499999993|      0.6807208102992075|  0.8527924891990942|           0.05819629717425614|        1.3176514071956051|\n",
            "|       29|90627BFB-9D49-406...|2021-11-14 18:10:...|     3.37027|       1.508|             0.0743067|               1.52393|107| 10|       2.028280024390244|  1.5266686341463416|           0.10288045121951221|        0.5107460243902439|      0.7056524031597459|  0.8420704155026096|           0.05764599334021455|        1.3111465337362274|\n",
            "|       29|4C34015D-82EA-403...|2021-11-14 18:10:...|     2.60986|     1.47631|             0.0679548|               0.79344|106|  9|       2.042127166666667|  1.5254696190476191|           0.10204888809523811|        0.5174768333333333|      0.7027471288393133|  0.8317741690149348|           0.05719312174162887|        1.2957926516779719|\n",
            "|       29|912E5084-48FB-426...|2021-11-14 22:24:...|       1.056|    0.673902|              0.176672|                   0.0|105|  8|      2.0191939767441864|  1.5056657209302327|            0.1037843093023256|        0.5054424883720929|      0.7104295541298032|  0.8320096446513827|           0.05764263601752989|         1.282703406501867|\n",
            "|       29|4196A09D-DA8A-477...|2021-11-16 13:33:...|     2.58818|     1.97506|             0.0664778|                   0.0|104|  7|      2.0321254772727273|  1.5163337727272728|           0.10293643409090912|       0.49395515909090904|      0.7073404760513715|  0.8253174937497624|           0.05724537776160049|        1.2699884923935507|\n",
            "|       29|6F7CFC91-39BF-44B...|2021-11-16 13:37:...|     1.85118|     1.77306|             0.0404311|                   0.0|103|  6|      2.0281044666666665|  1.5220388000000002|           0.10154742666666669|       0.48297837777777775|      0.6997763813544491|   0.816782062309786|           0.05735307855029705|        1.2576313667723884|\n",
            "|       29|1BCF6033-87E4-445...|2021-11-17 14:25:...|     3.26903|       2.298|              0.134532|                   0.0|102|  5|      2.0550811086956524|  1.5389075217391306|           0.10226448260869568|        0.4724788478260869|       0.715738118883785|  0.8157188452460195|           0.05692038446390147|         1.245616401392481|\n",
            "|       29|C6D6E005-4D2C-4B2...|2021-11-17 14:28:...|     2.64623|        2.32|             0.0736707|                   0.0|101|  4|       2.067658744680851|  1.5555265106382978|           0.10165610425531918|       0.46242610638297865|      0.7131477867322504|   0.814808593746672|           0.05645257072434675|         1.233928829846009|\n",
            "|       29|EAB37BE4-C214-4B4...|2021-11-18 18:54:...|     1.81592|     1.77263|             0.0549965|               2.34565|100|  3|      2.0624141875000004|           1.5600495|           0.10068402916666669|        0.5016599374999999|      0.7064553615643732|  0.8067026662655562|          0.056253383469709574|        1.2506282895311087|\n",
            "|       29|9A15F778-8392-401...|2021-11-18 18:54:...|     1.24093|        1.12|             0.0765086|                5.1624| 99|  2|       2.045649204081633|   1.551068897959184|           0.10019065306122452|         0.596777081632653|      0.7088398012191289|  0.8007268009144682|           0.05577136211250545|        1.4052766944252746|\n",
            "|       29|23AC61C4-5406-432...|2021-11-18 19:03:...|     1.29143|        0.54|             0.0835869|                   0.0| 98|  1|      2.0305648200000004|  1.5308475200000005|           0.09985857800000003|        0.5848415399999999|      0.7096313377120026|  0.8053096599980488|           0.05524925391570234|        1.3934214552559323|\n",
            "|       47|049EE2BB-7EE8-4FB...|2020-05-25 15:48:...|     2.69805|     2.01526|              0.111396|                   0.0| 97| 25|                 2.69805|             2.01526|                      0.111396|                       0.0|                    null|                null|                          null|                      null|\n",
            "|       47|75EA48AE-1F60-445...|2020-05-25 16:49:...|     2.01157|         0.3|              0.109046|                   0.0| 96| 24|      2.3548099999999996|             1.15763|                      0.110221|                       0.0|      0.4854146631489411|  1.2128719774980377|          0.001661700935788...|                       0.0|\n",
            "|       47|36321015-DF5A-481...|2020-05-25 16:53:...|     3.22753|     2.30759|              0.118015|                   0.0| 95| 23|      2.6457166666666665|  1.5409499999999998|                      0.112819|                       0.0|      0.6096669285219048|  1.0845883477614904|          0.004650745854161...|                       0.0|\n",
            "|       47|00BF642A-4E43-43F...|2020-05-26 16:58:...|     3.21795|     2.61577|              0.138934|                   0.0| 94| 22|                2.788775|  1.8096549999999998|                    0.11934775|                       0.0|      0.5741590279995025|  1.0358719825184317|          0.013598453254567837|                       0.0|\n",
            "|       47|29E9B29F-9249-4B3...|2020-05-27 07:08:...|     2.82261|     2.04273|             0.0693746|                   0.0| 93| 21|      2.7955419999999997|  1.8562699999999999|                    0.10935312|                       0.0|     0.49746648482083705|  0.9031267155001007|           0.02526166250213948|                       0.0|\n",
            "|       47|4DF2DEFB-38F5-406...|2020-05-27 15:48:...|        4.32|         3.0|              0.114118|                   0.0| 92| 20|       3.049618333333333|  2.0468916666666668|           0.11014726666666667|                       0.0|      0.7650536071261067|  0.9330219773492298|           0.02267829992452403|                       0.0|\n",
            "|       47|F85BFDB5-6330-42A...|2020-06-24 10:11:...|     2.78779|     1.92774|             0.0729535|                   0.0| 91| 19|      3.0122142857142857|             2.02987|           0.10483387142857144|                       0.0|      0.7053717395307043|  0.8529184223202905|          0.025024246686944394|                       0.0|\n",
            "|       47|C1BE866F-A126-444...|2020-07-21 09:18:...|     1.19649|    0.589091|             0.0731369|                   0.0| 90| 18|              2.78524875|         1.849772625|           0.10087175000000001|                       0.0|      0.9157388579789001|  0.9396946785134805|           0.02573599003485752|                       0.0|\n",
            "|       47|E291A377-B6E0-4B2...|2020-07-22 09:57:...|     1.41241|    0.663068|               0.13308|                   0.0| 89| 17|      2.6327111111111114|  1.7179165555555553|           0.10445044444444446|                       0.0|      0.9711668396887897|  0.9639097650544256|           0.02635928717796211|                       0.0|\n",
            "|       47|CCD23310-BB2B-444...|2020-07-22 09:57:...|     1.44489|    0.506842|             0.0657725|                   0.0| 88| 16|                2.513929|           1.5968091|                    0.10058265|                       0.0|      0.9896771267489212|  0.9861827474628795|            0.0276985382928514|                       0.0|\n",
            "|       47|D6464DA4-FB9F-481...|2020-07-22 16:12:...|     1.19698|    0.483626|               0.11368|                   0.0| 87| 15|      2.3942063636363637|  1.4956106363636363|           0.10177331818181817|                       0.0|      1.0194034235401874|  0.9939583440567591|          0.026572217053073242|                       0.0|\n",
            "|       47|E6DEEA64-6831-4F9...|2020-07-23 07:18:...|      1.2179|    0.466087|             0.0736165|                   0.0| 86| 14|      2.2961808333333336|            1.409817|           0.09942691666666666|                       0.0|      1.0295728154430082|  0.9932098669806992|          0.026607528668741085|                       0.0|\n",
            "|       47|0B7DF7C2-7986-41C...|2020-07-23 15:06:...|      1.1712|         0.6|              0.164969|                   0.0| 85| 13|      2.2096438461538463|  1.3475233846153847|           0.10446861538461537|                       0.0|      1.0339427542465658|  0.9770909793576491|          0.031295483767093464|                       0.0|\n",
            "|       47|D967C39D-8F46-48D...|2020-07-24 13:50:...|     1.54358|    0.617143|             0.0860613|                   0.0| 84| 12|       2.162067857142857|  1.2953533571428573|           0.10315380714285713|                       0.0|      1.0092039448395307|  0.9588387577932773|          0.030467529778298134|                       0.0|\n",
            "|       47|73CE5499-D4E2-498...|2020-07-24 13:51:...|     1.04023|    0.455357|              0.108743|                   0.0| 83| 11|      2.0872786666666667|           1.2393536|           0.10352641999999998|                       0.0|       1.014713987224737|  0.9490742561953126|          0.029394692538381822|                       0.0|\n",
            "|       47|5E5BE26F-706B-467...|2020-07-24 13:51:...|      1.1625|    0.411951|             0.0768678|                   0.0| 82| 10|                 2.02948|  1.1876409374999999|           0.10186025624999999|                       0.0|        1.00720032004893|   0.939935993703789|          0.029169545403839002|                       0.0|\n",
            "|       47|8178FBCF-3204-49B...|2020-07-24 15:27:...|     1.33722|    0.543117|             0.0907345|                   0.0| 81|  9|      1.9887588235294118|  1.1497277647058821|           0.10120579999999998|                       0.0|         0.9895649781778|  0.9234165583072822|          0.028371901612136433|                       0.0|\n",
            "|       47|EFC4DA14-44AF-4D2...|2020-07-24 19:04:...|     1.06957|         0.0|              0.148505|                   0.0| 80|  8|      1.9376927777777777|  1.0858539999999999|           0.10383353333333331|                       0.0|      0.9841625371308493|  0.9359363582786399|          0.029696862038209874|                       0.0|\n",
            "|       47|AFC7FBF7-9AB1-4EE...|2020-07-26 07:13:...|     1.53873|    0.942149|             0.0436706|                   0.0| 79|  6|               1.8850085|           1.0611453|           0.09858299999999999|                       0.0|      0.9458527437034351|  0.8892005867065507|          0.032502548224230376|                       0.0|\n",
            "|       47|B42D8459-7864-418...|2020-07-26 07:13:...|     1.28297|    0.735385|             0.0589858|                   0.0| 79|  7|               1.8850085|           1.0611453|           0.09858299999999999|                       0.0|      0.9458527437034351|  0.8892005867065507|          0.032502548224230376|                       0.0|\n",
            "|       47|0AA4AF71-0292-492...|2020-07-27 06:35:...|     1.47358|    0.479016|              0.140407|                   0.0| 78|  5|      1.8654166666666665|   1.033424857142857|           0.10057461904761904|                       0.0|      0.9262646386067719|  0.8759455926171607|            0.0329680502011056|                       0.0|\n",
            "|       47|7363576F-4AAD-4DB...|2020-07-27 15:25:...|     1.01242|    0.458361|              0.148876|                   0.0| 77|  4|      1.8266440909090909|   1.007285590909091|           0.10277013636363636|                       0.0|      0.9220539714120608|   0.863582800426371|          0.033781386509712935|                       0.0|\n",
            "|       47|6059A48D-9E90-426...|2020-07-28 06:40:...|     1.44084|       0.738|              0.158695|                   0.0| 76|  3|      1.8098699999999999|  0.9955775217391304|           0.10520165217391302|                       0.0|      0.9044392369609722|  0.8455939878996233|           0.03500417621027356|                       0.0|\n",
            "|       47|0D3D71DA-117B-443...|2020-07-28 17:06:...|     1.24651|        0.82|              0.217267|                   0.0| 75|  2|      1.7863966666666666|  0.9882617916666666|           0.10987104166666666|                       0.0|      0.8920025805756525|  0.8277834525843821|            0.0411739666448607|                       0.0|\n",
            "|       47|2A7E1124-D1C5-467...|2020-07-28 17:06:...|     1.38828|        1.56|              0.239446|                   0.0| 74|  1|                1.770472|  1.0111313199999998|           0.11505403999999998|                       0.0|      0.8768441255291616|  0.8183824089904793|           0.04791915075036111|                       0.0|\n",
            "|       64|TEST_D20210619083511|2021-06-19 08:35:...|     1.34972|    0.727679|              0.122699|              0.740295| 73| 24|                 1.34972|            0.727679|                      0.122699|                  0.740295|                    null|                null|                          null|                      null|\n",
            "|       64|TEST_D20210619083523|2021-06-19 08:35:...|     1.34972|    0.727679|              0.122699|              0.740295| 72| 23|                 1.34972|            0.727679|                      0.122699|                  0.740295|                     0.0|                 0.0|                           0.0|                       0.0|\n",
            "|       64|TEST_D20210619083529|2021-06-19 08:35:...|     1.34972|    0.727679|              0.122699|              0.740295| 71| 22|      1.3497200000000003|  0.7276789999999999|                      0.122699|                  0.740295|                     0.0|                 0.0|                           0.0|                       0.0|\n",
            "|       64|TEST_D20210619083517|2021-06-19 08:35:...|     1.34972|    0.727679|              0.122699|              0.740295| 70| 21|                 1.34972|            0.727679|                      0.122699|                  0.740295|                     0.0|                 0.0|                           0.0|                       0.0|\n",
            "|       64|TEST_D20210619083542|2021-06-19 08:36:...|     1.34972|    0.727679|              0.122699|              0.740295| 69| 20|                 1.34972|            0.727679|                      0.122699|                  0.740295|                     0.0|                 0.0|                           0.0|                       0.0|\n",
            "|       64|TEST_D20210619083534|2021-06-19 08:36:...|     1.34972|    0.727679|              0.122699|              0.740295| 68| 19|      1.3497199999999998|  0.7276790000000001|                      0.122699|                  0.740295|                     0.0|                 0.0|                           0.0|                       0.0|\n",
            "|       64|TEST_D20210619083553|2021-06-19 08:36:...|     1.34972|    0.727679|              0.122699|              0.740295| 67| 18|      1.3497199999999998|  0.7276790000000001|                      0.122699|        0.7402949999999999|                     0.0|                 0.0|                           0.0|                       0.0|\n",
            "|       64|TEST_D20210619083559|2021-06-19 08:36:...|     1.34972|    0.727679|              0.122699|              0.740295| 66| 17|      1.3497199999999998|  0.7276790000000001|                      0.122699|        0.7402949999999999|                     0.0|                 0.0|                           0.0|                       0.0|\n",
            "|       64|TEST_D20210619083547|2021-06-19 08:36:...|     1.34972|    0.727679|              0.122699|              0.740295| 65| 16|      1.3497199999999998|  0.7276790000000001|           0.12269899999999999|        0.7402949999999999|                     0.0|                 0.0|                           0.0|                       0.0|\n",
            "|       64|TEST_P20210619083703|2021-06-19 08:37:...|      1.5256|    0.655338|             0.0480807|              0.306175| 64| 15|                1.367308|           0.7204449|                    0.11523717|        0.6968829999999999|     0.05561813948704147| 0.02287623282142407|          0.023596378312974217|        0.1372807977832297|\n",
            "|       64|TEST_D20210619105204|2021-06-19 10:52:...|     1.34972|    0.727679|              0.122699|              0.740295| 63| 14|      1.3657090909090908|  0.7211025454545456|            0.1159155181818182|        0.7008295454545453|     0.05302981528433708|0.021811632178099997|          0.022498263963106935|       0.13089210490809877|\n",
            "|       64|TEST_D20210619105334|2021-06-19 10:53:...|     1.34972|    0.727679|              0.122699|              0.740295| 62| 13|      1.3643766666666666|  0.7216505833333334|           0.11648080833333334|        0.7041183333333332|      0.0507721826725357|0.020883047911723355|          0.021540447795736124|        0.1253196494303002|\n",
            "|       64|TEST_D20210619182959|2021-06-19 18:30:...|     1.34972|    0.727679|              0.122699|              0.740295| 61| 12|      1.3632492307692308|  0.7221143076923078|           0.11695913076923076|        0.7069011538461537|    0.048780335256046664|0.020063783447564647|          0.020695392825996504|       0.12040322459264825|\n",
            "|       64|TEST_D20210619183354|2021-06-19 18:34:...|     1.34972|    0.727679|              0.122699|              0.740295| 60| 11|      1.3622828571428571|  0.7225117857142858|           0.11736912142857141|        0.7092864285714284|    0.047005907227557216|0.019333945501186688|          0.019942579527393856|       0.11602345033902169|\n",
            "|       64|TEST_D20210619183630|2021-06-19 18:36:...|     1.34972|    0.727679|              0.122699|              0.740295| 59| 10|      1.3614453333333334|  0.7228562666666668|           0.11772444666666665|        0.7113536666666664|     0.04541202072873072| 0.01867836588319938|           0.01926636221482059|       0.11208930201703761|\n",
            "|       64|TEST_D20210619183813|2021-06-19 18:38:...|     1.34972|    0.727679|              0.122699|              0.740295| 58|  9|      1.3607125000000002|  0.7231576875000001|           0.11803535624999997|        0.7131624999999998|     0.04397000000000002|          0.01808525|                   0.018654575|       0.10853000000000002|\n",
            "|       64|TEST_D20210619184004|2021-06-19 18:40:...|     1.34972|    0.727679|              0.122699|              0.740295| 57|  8|      1.3600658823529415|  0.7234236470588237|           0.11830968823529409|        0.7147585294117645|     0.04265716573139027|0.017545269650753363|          0.018097596029648604|       0.10528956554077289|\n",
            "|       64|TEST_D20210619184338|2021-06-19 18:44:...|     1.34972|    0.727679|              0.122699|              0.740295| 56|  7|      1.3594911111111114|  0.7236600555555557|           0.11855353888888885|         0.716177222222222|    0.041455313558363356|0.017050937219272012|          0.017587701976870717|       0.10232306528290135|\n",
            "|       64|TEST_D20210619184929|2021-06-19 18:49:...|     1.34972|    0.727679|              0.122699|              0.740295| 55|  6|      1.3589768421052635|  0.7238715789473685|           0.11877172105263153|        0.7174465789473682|    0.040349639273154436| 0.01659616360393031|          0.017118612054673736|       0.09959395838788829|\n",
            "|       64|TEST_D20210619190010|2021-06-19 19:00:...|     1.34972|    0.727679|              0.122699|              0.740295| 54|  5|      1.3585140000000004|  0.7240619500000001|           0.11896808499999996|        0.7185889999999998|     0.03932796358826633|0.016175939356031233|          0.016685159116547253|       0.09707218303922087|\n",
            "|       64|TEST_D20210619193005|2021-06-19 19:30:...|     1.34972|    0.727679|              0.122699|              0.740295| 53|  4|      1.3580952380952387|  0.7242341904761906|           0.11914574761904757|        0.7196226190476188|     0.03838016253470637| 0.01578610039756193|           0.01628304799899635|       0.09473275050924902|\n",
            "|       64|TEST_D20210619193630|2021-06-19 19:36:...|     1.34972|    0.727679|              0.122699|              0.740295| 52|  3|       1.357714545454546|  0.7243907727272728|           0.11930725909090904|        0.7205622727272725|    0.037497741992624796| 0.01542315302188122|          0.015908675013237845|       0.09255469498429761|\n",
            "|       64|TEST_D20210723140206|2021-07-23 14:02:...|     1.34972|    0.727679|              0.122699|              0.740295| 51|  2|      1.3573669565217397|  0.7245337391304348|           0.11945472608695647|        0.7214202173913042|     0.03667351514435835|0.015084141227302852|           0.01555899110243502|        0.0905202774304573|\n",
            "|       64|TEST_D20210723140247|2021-07-23 14:03:...|     1.34972|    0.727679|              0.122699|              0.740295| 50|  1|      1.3570483333333339|  0.7246647916666666|           0.11958990416666661|        0.7222066666666666|     0.03590135466339215|0.014766544790223164|          0.015231396706159833|       0.08861437392808612|\n",
            "|       88|TEST_D20211118144442|2021-11-18 14:45:...|     1.34972|    0.727679|              0.122699|               0.74254| 49|  1|                 1.34972|            0.727679|                      0.122699|                   0.74254|                    null|                null|                          null|                      null|\n",
            "|       89|C790FB2D-113B-40F...|2020-06-24 08:27:...|     1.37068|    0.827234|             0.0442256|                   0.0| 48| 50|                 1.37068|            0.827234|                     0.0442256|                       0.0|                    null|                null|                          null|                      null|\n",
            "|       89|D5A15B74-DEC9-46C...|2020-06-24 08:27:...|     1.84615|       3.237|             0.0756003|                   0.0| 47| 49|                1.608415|            2.032117|           0.05991294999999999|                       0.0|      0.3362080612507678|  1.7039618796727822|           0.02218526312769357|                       0.0|\n",
            "|       89|1E8591FF-34B0-40A...|2020-06-24 13:18:...|     1.96744|       1.758|             0.0873444|                   0.0| 46| 48|                 1.72809|  1.9407446666666666|           0.06905676666666666|                       0.0|     0.31541123489818823|  1.2152323866591666|          0.022291727158821353|                       0.0|\n",
            "|       89|64A7CE17-5B49-41B...|2020-07-29 07:01:...|      1.4698|     1.20527|              0.105796|                   0.0| 45| 47|               1.6635175|            1.756876|                   0.078241575|                       0.0|     0.28809939678000024|  1.0581858290098831|          0.025859689666141914|                       0.0|\n",
            "|       89|50639132-9427-47E...|2020-08-10 18:24:...|        1.89|         0.0|              0.137025|                   0.0| 44| 46|      1.7088139999999998|           1.4055008|                    0.08999826|                       0.0|     0.26927645901563696|   1.207120786173944|           0.03453463295255939|                       0.0|\n",
            "|       89|E9780093-DEDC-40B...|2020-08-10 18:27:...|     1.64577|     1.06908|             0.0970081|                   0.0| 43| 45|      1.6983066666666666|  1.3494306666666667|           0.09116656666666667|                       0.0|     0.24221947367349858|  1.0883821172008787|           0.03102099839364728|                       0.0|\n",
            "|       89|DD9F953C-DF81-483...|2020-08-12 07:33:...|     1.72615|       2.286|             0.0713507|                   0.0| 42| 44|       1.702284285714286|  1.4832262857142857|           0.08833572857142857|                       0.0|     0.22136540988880377|  1.0547299344397307|          0.029291878192297286|                       0.0|\n",
            "|       89|A1756B2B-0C67-494...|2020-08-12 07:33:...|     1.66162|     1.04934|             0.0712799|                   0.0| 41| 43|              1.69720125|  1.4289904999999998|                    0.08620375|                       0.0|     0.20544820490384988|  0.9884660954467355|          0.027781348818998287|                       0.0|\n",
            "|       89|2B4916A5-618C-4BD...|2020-08-31 09:36:...|     1.45755|      1.4301|              0.109701|                   0.0| 40| 42|      1.6705733333333332|  1.4291137777777776|           0.08881455555555556|                       0.0|      0.2081207769541523|  0.9246254408642696|          0.027141751514369483|                       0.0|\n",
            "|       89|596D79F3-BD89-466...|2020-08-31 16:31:...|      1.5216|       2.622|              0.118185|                   0.0| 39| 41|      1.6556760000000001|  1.5484023999999998|                     0.0917516|                       0.0|     0.20179412254407544|  0.9498618281038096|          0.027222862345054354|                       0.0|\n",
            "|       89|78FE6656-FA43-49B...|2020-09-01 09:45:...|     1.63121|     1.40203|              0.102915|                   0.0| 38| 40|       1.653451818181818|   1.535095818181818|           0.09276645454545455|                       0.0|     0.19158078697083283|  0.9021981265533441|          0.026044289932050897|                       0.0|\n",
            "|       89|022A3791-7F7E-482...|2020-09-14 20:57:...|      1.3809|        3.21|              0.118605|                   0.0| 37| 39|      1.6307391666666666|  1.6746711666666665|           0.09491966666666668|                       0.0|     0.19888921047833882|  0.9867828018814782|          0.025928301389840883|                       0.0|\n",
            "|       89|7E110895-2D2A-48E...|2020-09-14 20:57:...|     2.30909|     1.29902|              0.150616|                   0.0| 36| 38|      1.6829200000000002|   1.645774923076923|           0.09920400000000001|                       0.0|      0.2676890359789383|  0.9504999636323386|          0.029238252387240937|                       0.0|\n",
            "|       89|D36E82A6-8722-42D...|2020-09-28 09:58:...|     1.92712|      2.1427|              0.143726|                   0.0| 35| 37|       1.700362857142857|  1.6812695714285713|           0.10238414285714288|                       0.0|      0.2653391348220836|  0.9228175301589828|          0.030507410191415018|                       0.0|\n",
            "|       89|A0738B62-E789-4E8...|2020-09-28 09:58:...|     1.45787|     1.39714|             0.0746184|                   0.0| 34| 36|      1.6841966666666666|           1.6623276|           0.10053309333333335|                       0.0|      0.2632415694123302|  0.8922702249530848|            0.0302591989637028|                       0.0|\n",
            "|       89|FE100F85-34EC-44A...|2020-09-28 14:23:...|     1.47631|    0.991011|              0.152483|                   0.0| 33| 35|              1.67120375|        1.6203703125|           0.10377996250000002|                       0.0|      0.2595716402299501|  0.8782006420165966|          0.031988316574917894|                       0.0|\n",
            "|       89|757C525D-361B-4FF...|2020-11-18 17:43:...|     1.11907|     0.86069|              0.149273|                   0.0| 32| 34|      1.6387252941176471|  1.5756832352941175|           0.10645602352941178|                       0.0|     0.28477850739911986|  0.8700471179410005|          0.032879192009984244|                       0.0|\n",
            "|       89|5711DA6B-3FE0-442...|2020-11-18 17:45:...|      1.8155|     1.12289|             0.0607241|                   0.0| 31| 33|      1.6485461111111113|  1.5505280555555554|           0.10391536111111113|                       0.0|      0.2793999870550102|  0.8507900625027701|           0.03366957059243534|                       0.0|\n",
            "|       89|9C68FD93-7578-47C...|2020-11-19 09:47:...|     1.95333|         0.0|               0.18131|                   0.0| 30| 32|      1.6645873684210528|  1.4689213157894734|           0.10798876315789475|                       0.0|     0.28038644950302477|  0.9000909561830129|           0.03722793930953845|                       0.0|\n",
            "|       89|63BAD016-53CD-4CE...|2021-09-12 20:31:...|     0.94875|         0.0|              0.108275|                   0.0| 29| 31|               1.6287955|  1.3954752499999998|           0.10800307500000002|                       0.0|      0.3163858470697648|  0.9356334884542905|           0.03623507185120479|                       0.0|\n",
            "|       89|C7DE4663-F81B-4A5...|2021-09-15 19:18:...|     1.93622|     1.33043|             0.0910684|                   0.0| 28| 30|      1.6434347619047618|   1.392377857142857|           0.10719666190476193|                       0.0|      0.3155875025823907|  0.9120531750802848|          0.035510389383143576|                       0.0|\n",
            "|       89|E80D12A0-78C6-49A...|2021-09-15 19:23:...|        0.99|         0.0|              0.108705|                   0.0| 27| 29|       1.613733181818182|  1.3290879545454544|           0.10726522272727275|                       0.0|      0.3380249623691008|  0.9382712705920028|          0.034656083609250536|                       0.0|\n",
            "|       89|075239A1-20FD-426...|2021-09-17 08:15:...|     1.57882|     1.76523|             0.0616278|                   0.0| 26| 28|      1.6122152173913045|  1.3480506521739128|           0.10528098695652177|                       0.0|      0.3303334618350147|  0.9211988724104736|           0.03517110494056558|                       0.0|\n",
            "|       89|A78D4278-D9A1-486...|2021-09-17 08:18:...|        1.48|         0.0|             0.0759098|                   0.0| 25| 27|              1.60670625|  1.2918818749999998|           0.10405718750000002|                       0.0|     0.32419779299214585|  0.9420348968841364|           0.03491658873278122|                       0.0|\n",
            "|       89|4F15662B-5881-4B3...|2021-09-18 18:15:...|        1.56|        0.36|               0.11817|                   0.0| 24| 26|                1.604838|  1.2546065999999998|           0.10462170000000003|                       0.0|     0.31750925323786494|  0.9408451842091238|           0.03429776019076659|                       0.0|\n",
            "|       89|90B7C3B1-C904-49A...|2021-09-18 18:15:...|     1.82717|       1.752|             0.0551954|                   0.0| 23| 25|      1.6133892307692308|   1.273737115384615|           0.10272068846153849|                       0.0|       0.314135087335663|   0.926982991383567|           0.03497488908549477|                       0.0|\n",
            "|       89|2B367BCC-0839-492...|2021-09-18 18:15:...|       1.612|     1.59184|             0.0574505|                   0.0| 22| 24|       1.613337777777778|  1.2855187037037032|           0.10104401481481483|                       0.0|     0.30803491222378987|  0.9110407899723942|           0.03538500241569869|                       0.0|\n",
            "|       89|3AC997DB-4E8B-42D...|2021-09-18 18:15:...|     1.61642|     1.33371|             0.0565414|               6.98592| 21| 23|      1.6134478571428572|   1.287239821428571|           0.09945463571428573|       0.24949714285714286|      0.3022773038043678|   0.894056875396392|           0.03572752310473561|        1.3202147856423103|\n",
            "|       89|8F0391AC-661B-45F...|2021-09-23 19:00:...|    0.854118|         0.0|              0.107972|                   0.0| 20| 22|      1.5872640689655173|    1.24285224137931|            0.0997483379310345|       0.24089379310344827|     0.32861897424154696|  0.9099051501045768|           0.03511936453012185|        1.2972527768778301|\n",
            "|       89|159E8119-300C-4CD...|2021-09-23 19:00:...|     1.38322|     1.16656|             0.0426248|                   0.0| 19| 21|      1.5804626000000002|  1.2403091666666661|           0.09784422000000002|       0.23286400000000002|      0.3250452609948556|  0.8941879997971607|           0.03605010022124286|          1.27544865630883|\n",
            "|       89|AA983420-69D1-46E...|2021-09-23 19:00:...|     1.50815|     1.52254|             0.0677026|               2.25295| 18| 20|      1.5781299354838711|  1.2494133870967736|           0.09687190967741938|       0.29802806451612907|      0.3198457263663151|  0.8806186829349267|          0.035855214544445776|        1.3054427014680228|\n",
            "|       89|B6164864-5C29-452...|2021-09-30 18:50:...|     1.68876|     1.60594|             0.0702267|                   0.0| 17| 19|      1.5815871250000002|  1.2605548437499994|           0.09603924687500003|              0.2887146875|      0.3152518298184086|  0.8685883419687784|           0.03558527831917143|        1.2852948009270955|\n",
            "|       89|868C9933-AA54-4B2...|2021-09-30 18:50:...|     1.92226|       1.648|             0.0705081|                1.8792| 16| 18|      1.5919105454545457|  1.2722956060606057|           0.09526557575757578|        0.3369112121212121|     0.31590328329817685|  0.8575652633608251|          0.035305700573022104|        1.2949958029462816|\n",
            "|       89|1A68D452-CF0E-480...|2021-09-30 18:50:...|     1.74235|     1.74581|             0.0528258|                   0.0| 15| 17|       1.596335235294118|  1.2862224999999994|           0.09401734705882356|        0.3270020588235294|      0.3121481137513873|  0.8483674712318824|          0.035520339796160275|        1.2765320303493186|\n",
            "|       89|E25A2759-E59A-4E0...|2021-10-07 07:48:...|    0.711111|         0.0|              0.122122|                   0.0| 14| 16|      1.5710431142857146|  1.2494732857142852|           0.09482033714285716|       0.31765914285714286|     0.34199395551011885|  0.8636125176070699|           0.03531506242303687|        1.2588334703030126|\n",
            "|       89|6A6EE398-7259-425...|2021-10-07 07:48:...|     1.49018|     1.82769|             0.0711471|                   0.0| 13| 15|       1.568796916666667|  1.2655348611111106|           0.09416274722222225|       0.30883527777777775|      0.3373422441591985|  0.8566237920151797|           0.03502981523084491|        1.2418488791440563|\n",
            "|       89|684ED0B3-F885-427...|2021-10-07 17:11:...|     1.63241|     1.14568|             0.0732811|                2.5205| 12| 14|      1.5705161891891897|  1.2622955405405398|           0.09359837837837841|                   0.36861|      0.3327883000517361|  0.8448722483317487|          0.034710043642679864|        1.2773220853627933|\n",
            "|       89|56EF9ACB-EBB9-489...|2021-10-14 07:20:...|     1.27261|     1.04437|             0.0361707|                   0.0| 11| 11|      1.5574229750000004|  1.2518883749999994|           0.09124615000000003|       0.34096424999999997|      0.3240106826836145|  0.8130148754303705|           0.03478388101661383|        1.2311440379787837|\n",
            "|       89|84F43EF0-8DC4-4E3...|2021-10-14 07:20:...|     1.45483|        1.26|             0.0810048|                   0.0| 11| 12|      1.5574229750000004|  1.2518883749999994|           0.09124615000000003|       0.34096424999999997|      0.3240106826836145|  0.8130148754303705|           0.03478388101661383|        1.2311440379787837|\n",
            "|       89|9843B743-8C00-431...|2021-10-14 07:20:...|     1.46038|     1.06623|             0.0695305|                   0.0| 11| 13|      1.5574229750000004|  1.2518883749999994|           0.09124615000000003|       0.34096424999999997|      0.3240106826836145|  0.8130148754303705|           0.03478388101661383|        1.2311440379787837|\n",
            "|       89|4E682BA3-1500-458...|2021-10-15 06:45:...|     1.49938|     1.16118|             0.0994467|                   0.0| 10| 10|      1.5560072926829274|  1.2496759756097555|           0.09144616341463417|        0.3326480487804878|     0.32006330599447386|  0.8029128477816408|           0.03437019987024919|         1.216823026781667|\n",
            "|       89|0A40A18D-8911-4EC...|2021-10-15 06:45:...|     1.33071|    0.806846|             0.0649742|                   0.0|  9|  9|      1.5506430714285717|  1.2391324047619041|            0.0908158785714286|        0.3247278571428571|      0.3180416876850897|  0.7959990045249032|          0.034193318964650235|        1.2029876550702396|\n",
            "|       89|30755727-254F-4C9...|2021-11-04 17:28:...|      1.6906|     1.62323|             0.0912253|                   0.0|  8|  8|      1.5538978837209307|  1.2480649069767435|           0.09082540000000003|        0.3171760465116279|     0.31495666851067516|  0.7886439693042377|           0.03378386106038121|        1.1896112522907871|\n",
            "|       89|9AA8842C-6339-4D2...|2021-11-04 17:28:...|     1.48174|         0.0|               0.10475|                   0.0|  7|  7|      1.5522579318181824|   1.219699795454545|           0.09114186818181821|                 0.3099675|     0.31146286323019856|  0.8018083565203352|           0.03345464025745468|        1.1766691399625113|\n",
            "|       89|D8132ED3-8B6A-43D...|2021-11-04 17:32:...|     1.50696|        2.64|             0.0889523|                   0.0|  6|  6|      1.5512513111111117|  1.2512620222222217|           0.09109321111111114|        0.3030793333333333|      0.3079772075822718|  0.8204347569635506|          0.033073899598730694|        1.1641384459184632|\n",
            "|       89|454BE33C-84DB-424...|2021-11-04 19:46:...|     1.19023|     0.78895|             0.0782507|              0.545582|  5|  5|       1.543403021739131|  1.2412117608695648|           0.09081402608695655|       0.30835113043478257|      0.3091530093847805|  0.8141262040894638|           0.03275911726534519|        1.1516860611407493|\n",
            "|       89|830D844D-E39C-441...|2021-11-11 07:45:...|     1.26323|     1.31321|             0.0852725|               3.01935|  4|  4|       1.537441893617022|  1.2427436382978718|           0.09069612127659578|        0.3660319574468085|     0.30849311243655475|  0.8052968650872586|          0.032411164380502774|        1.2057856672700993|\n",
            "|       89|5EE71E65-7590-40D...|2021-11-11 17:27:...|     1.55613|       2.337|             0.0779973|                   0.0|  3|  3|      1.5378312291666674|   1.265540645833333|           0.09043156250000002|       0.35840629166666665|     0.30520554597218646|  0.8121889400884367|          0.032116856115247325|         1.194058568225906|\n",
            "|       89|2186F7E8-6859-44E...|2021-11-11 21:02:...|     1.57233|     1.03448|             0.0755129|                   0.0|  2|  2|      1.5385352857142862|  1.2608251224489793|           0.09012710000000002|        0.3510918775510204|     0.30204979807544435|  0.8043616846484969|           0.03185192606476751|        1.1826638290536755|\n",
            "|       89|423E8537-DAA1-42E...|2021-11-19 08:29:...|      1.5216|     1.22923|             0.0894158|                0.9045|  1|  1|      1.5381965800000006|  1.2601932199999997|           0.09011287400000002|       0.36216003999999996|     0.29896136303024456|   0.796124142121866|          0.031525391496844406|        1.1731471235525714|\n",
            "+---------+--------------------+--------------------+------------+------------+----------------------+----------------------+---+---+------------------------+--------------------+------------------------------+--------------------------+------------------------+--------------------+------------------------------+--------------------------+\n",
            "\n"
          ]
        }
      ]
    },
    {
      "cell_type": "code",
      "source": [
        "cols = ('started_at','acc_3050_avg', 'acc_5090_avg', 'gyroscope_distance_avg', 'acc_highway_sq_of_diff', 'rnk','row')\n",
        "trip_df.drop(*cols).printSchema()"
      ],
      "metadata": {
        "colab": {
          "base_uri": "https://localhost:8080/"
        },
        "id": "BT-rkf3R2Aw-",
        "outputId": "940ae310-1d34-40cc-c055-d3aad96cc622"
      },
      "execution_count": 185,
      "outputs": [
        {
          "output_type": "stream",
          "name": "stdout",
          "text": [
            "root\n",
            " |-- driver_id: integer (nullable = true)\n",
            " |-- trip_id: string (nullable = true)\n",
            " |-- acc_3050_avg_rolling_avg: double (nullable = true)\n",
            " |-- acc_5090_rolling_avg: double (nullable = true)\n",
            " |-- gyroscope_distance_rolling_avg: double (nullable = true)\n",
            " |-- acc_highway_sq_of_diff_avg: double (nullable = true)\n",
            " |-- acc_3050_avg_rolling_std: double (nullable = true)\n",
            " |-- acc_5090_rolling_std: double (nullable = true)\n",
            " |-- gyroscope_distance_rolling_std: double (nullable = true)\n",
            " |-- acc_highway_sq_of_diff_std: double (nullable = true)\n",
            "\n"
          ]
        }
      ]
    },
    {
      "cell_type": "code",
      "source": [
        "trip_df.drop(*cols).write.parquet(\"rolling_metrics.parquet\") "
      ],
      "metadata": {
        "id": "jjdVvaq2nCfp"
      },
      "execution_count": 186,
      "outputs": []
    },
    {
      "cell_type": "code",
      "source": [
        "parDF1=spark.read.parquet(\"rolling_metrics.parquet\")\n"
      ],
      "metadata": {
        "id": "9vDfsh61HW9N"
      },
      "execution_count": 188,
      "outputs": []
    },
    {
      "cell_type": "code",
      "source": [
        "parDF1"
      ],
      "metadata": {
        "id": "Q6ksxNc4HXAP",
        "colab": {
          "base_uri": "https://localhost:8080/",
          "height": 926
        },
        "outputId": "fa4c12ae-6db3-4da9-8737-7e5c5426ca2d"
      },
      "execution_count": 189,
      "outputs": [
        {
          "output_type": "execute_result",
          "data": {
            "text/plain": [
              "+---------+--------------------+------------------------+--------------------+------------------------------+--------------------------+------------------------+--------------------+------------------------------+--------------------------+\n",
              "|driver_id|             trip_id|acc_3050_avg_rolling_avg|acc_5090_rolling_avg|gyroscope_distance_rolling_avg|acc_highway_sq_of_diff_avg|acc_3050_avg_rolling_std|acc_5090_rolling_std|gyroscope_distance_rolling_std|acc_highway_sq_of_diff_std|\n",
              "+---------+--------------------+------------------------+--------------------+------------------------------+--------------------------+------------------------+--------------------+------------------------------+--------------------------+\n",
              "|       25|68D01DEE-0762-43F...|                   1.248|                 0.0|                     0.0839204|                       0.0|                    null|                null|                          null|                      null|\n",
              "|       25|B9787774-A4A5-4D7...|      1.8343850000000002|            0.427059|                    0.07081305|                       0.0|      0.8292736197721474|  0.6039526297334916|           0.01853659213677099|                       0.0|\n",
              "|       25|B9FC3426-54D7-422...|      1.5626866666666668| 0.49970600000000004|           0.06449323333333333|                       0.0|      0.7518692181711747|  0.4452102304619695|           0.01707696905552427|                       0.0|\n",
              "|       29|897A78C8-EF6C-4D2...|                 1.37095|            0.892606|                      0.199229|                       0.0|                    null|                null|                          null|                      null|\n",
              "|       29|0F5548E4-81BD-467...|      1.6907299999999998|            1.163063|           0.21543299999999999|                       0.0|     0.45223721297566843|  0.3824839574387401|          0.022915916564693647|                       0.0|\n",
              "|       29|FCB8C9D5-B8BA-4D1...|      1.7632266666666665|            1.264602|            0.1862623333333333|                       0.0|     0.34354992131178463| 0.32261043754348684|           0.05305990008785667|                       0.0|\n",
              "|       29|9CAA9BC1-388F-47B...|               1.8593525|           1.2739515|                   0.159790625|                       0.0|      0.3400662714212238|  0.2640731884831678|            0.0684098484617712|                       0.0|\n",
              "|       29|B6E32C47-0844-4AD...|                1.981082|           1.6840032|                     0.1493077|                       0.0|      0.4010288737360442|  0.9449936349104157|             0.063713335399271|                       0.0|\n",
              "|       29|81117A1F-3BB3-415...|      1.8989016666666665|            1.518336|           0.13330328333333333|                       0.0|      0.4113161426161958|  0.9375948501095769|           0.06916906391734434|                       0.0|\n",
              "|       29|9BB54228-4899-43F...|                 2.07013|   1.676125142857143|           0.12916952857142858|                       0.0|      0.5884030386846532|  0.9522877616658088|           0.06408261596061535|                       0.0|\n",
              "|       29|26F8028E-93D8-4D0...|      2.0462474999999998|          1.74526325|                    0.11894805|                       0.0|      0.5489274930977419|  0.9030738180737022|           0.06599815253319054|                       0.0|\n",
              "|       29|ECE8FFBF-F1E4-4D9...|       2.051144444444444|  1.7252517777777778|           0.11219522222222222|                       0.0|      0.5136847663477844|  0.8468787764275619|           0.06497455476982465|                       0.0|\n",
              "|       29|129D8E1F-28C3-4D0...|                2.024819|           1.6963496|                     0.1126579|                       0.0|      0.4914094158291593|  0.8036589606249103|           0.06127606792726396|                       0.0|\n",
              "|       29|E17CCE2E-0F7F-4E1...|      1.9772572727272724|  1.6109029999999998|                      0.124119|                       0.0|     0.49215667168272564|  0.8133838506268735|           0.06945650290558833|                       0.0|\n",
              "|       29|316EDCF5-156F-454...|      2.0000224999999996|   1.606613583333333|           0.13034491666666667|                       0.0|      0.4758333962089329|  0.7756734062730101|           0.06964758497389598|                       0.0|\n",
              "|       29|D69AD56B-1178-456...|      1.9851653846153843|  1.5661540769230766|           0.13535592307692307|        0.4289307692307692|     0.45871433697192177|  0.7568426269701495|           0.06908680283868926|          1.54653188208575|\n",
              "|       29|03538009-A101-449...|       1.949275714285714|  1.5328166428571426|           0.13269392142857142|       0.39829285714285717|      0.4607230580413673|    0.73777217271517|           0.06711960273265556|        1.4902754110278698|\n",
              "|       29|E7B6EF39-5B1C-438...|      1.9436719999999998|   1.494199733333333|           0.12966002000000001|                   0.37174|     0.44449400684052304|  0.7264968253825503|            0.0657367537321094|        1.4397428291191452|\n",
              "|       29|1F8E6D0C-0084-4BA...|      1.9267756249999999|  1.4958416249999997|                 0.12486481875|                0.34850625|     0.43470801747025184|  0.7018933402377576|           0.06634105831937682|                  1.394025|\n",
              "|       29|B85FB1E7-C312-48C...|      1.9478347058823526|  1.4925297647058822|            0.1256272411764706|       0.44738999999999995|     0.42976692783876547|   0.679742475404889|            0.0643113280302162|        1.4099911441477213|\n",
              "+---------+--------------------+------------------------+--------------------+------------------------------+--------------------------+------------------------+--------------------+------------------------------+--------------------------+\n",
              "only showing top 20 rows"
            ],
            "text/html": [
              "<table border='1'>\n",
              "<tr><th>driver_id</th><th>trip_id</th><th>acc_3050_avg_rolling_avg</th><th>acc_5090_rolling_avg</th><th>gyroscope_distance_rolling_avg</th><th>acc_highway_sq_of_diff_avg</th><th>acc_3050_avg_rolling_std</th><th>acc_5090_rolling_std</th><th>gyroscope_distance_rolling_std</th><th>acc_highway_sq_of_diff_std</th></tr>\n",
              "<tr><td>25</td><td>68D01DEE-0762-43F...</td><td>1.248</td><td>0.0</td><td>0.0839204</td><td>0.0</td><td>null</td><td>null</td><td>null</td><td>null</td></tr>\n",
              "<tr><td>25</td><td>B9787774-A4A5-4D7...</td><td>1.8343850000000002</td><td>0.427059</td><td>0.07081305</td><td>0.0</td><td>0.8292736197721474</td><td>0.6039526297334916</td><td>0.01853659213677099</td><td>0.0</td></tr>\n",
              "<tr><td>25</td><td>B9FC3426-54D7-422...</td><td>1.5626866666666668</td><td>0.49970600000000004</td><td>0.06449323333333333</td><td>0.0</td><td>0.7518692181711747</td><td>0.4452102304619695</td><td>0.01707696905552427</td><td>0.0</td></tr>\n",
              "<tr><td>29</td><td>897A78C8-EF6C-4D2...</td><td>1.37095</td><td>0.892606</td><td>0.199229</td><td>0.0</td><td>null</td><td>null</td><td>null</td><td>null</td></tr>\n",
              "<tr><td>29</td><td>0F5548E4-81BD-467...</td><td>1.6907299999999998</td><td>1.163063</td><td>0.21543299999999999</td><td>0.0</td><td>0.45223721297566843</td><td>0.3824839574387401</td><td>0.022915916564693647</td><td>0.0</td></tr>\n",
              "<tr><td>29</td><td>FCB8C9D5-B8BA-4D1...</td><td>1.7632266666666665</td><td>1.264602</td><td>0.1862623333333333</td><td>0.0</td><td>0.34354992131178463</td><td>0.32261043754348684</td><td>0.05305990008785667</td><td>0.0</td></tr>\n",
              "<tr><td>29</td><td>9CAA9BC1-388F-47B...</td><td>1.8593525</td><td>1.2739515</td><td>0.159790625</td><td>0.0</td><td>0.3400662714212238</td><td>0.2640731884831678</td><td>0.0684098484617712</td><td>0.0</td></tr>\n",
              "<tr><td>29</td><td>B6E32C47-0844-4AD...</td><td>1.981082</td><td>1.6840032</td><td>0.1493077</td><td>0.0</td><td>0.4010288737360442</td><td>0.9449936349104157</td><td>0.063713335399271</td><td>0.0</td></tr>\n",
              "<tr><td>29</td><td>81117A1F-3BB3-415...</td><td>1.8989016666666665</td><td>1.518336</td><td>0.13330328333333333</td><td>0.0</td><td>0.4113161426161958</td><td>0.9375948501095769</td><td>0.06916906391734434</td><td>0.0</td></tr>\n",
              "<tr><td>29</td><td>9BB54228-4899-43F...</td><td>2.07013</td><td>1.676125142857143</td><td>0.12916952857142858</td><td>0.0</td><td>0.5884030386846532</td><td>0.9522877616658088</td><td>0.06408261596061535</td><td>0.0</td></tr>\n",
              "<tr><td>29</td><td>26F8028E-93D8-4D0...</td><td>2.0462474999999998</td><td>1.74526325</td><td>0.11894805</td><td>0.0</td><td>0.5489274930977419</td><td>0.9030738180737022</td><td>0.06599815253319054</td><td>0.0</td></tr>\n",
              "<tr><td>29</td><td>ECE8FFBF-F1E4-4D9...</td><td>2.051144444444444</td><td>1.7252517777777778</td><td>0.11219522222222222</td><td>0.0</td><td>0.5136847663477844</td><td>0.8468787764275619</td><td>0.06497455476982465</td><td>0.0</td></tr>\n",
              "<tr><td>29</td><td>129D8E1F-28C3-4D0...</td><td>2.024819</td><td>1.6963496</td><td>0.1126579</td><td>0.0</td><td>0.4914094158291593</td><td>0.8036589606249103</td><td>0.06127606792726396</td><td>0.0</td></tr>\n",
              "<tr><td>29</td><td>E17CCE2E-0F7F-4E1...</td><td>1.9772572727272724</td><td>1.6109029999999998</td><td>0.124119</td><td>0.0</td><td>0.49215667168272564</td><td>0.8133838506268735</td><td>0.06945650290558833</td><td>0.0</td></tr>\n",
              "<tr><td>29</td><td>316EDCF5-156F-454...</td><td>2.0000224999999996</td><td>1.606613583333333</td><td>0.13034491666666667</td><td>0.0</td><td>0.4758333962089329</td><td>0.7756734062730101</td><td>0.06964758497389598</td><td>0.0</td></tr>\n",
              "<tr><td>29</td><td>D69AD56B-1178-456...</td><td>1.9851653846153843</td><td>1.5661540769230766</td><td>0.13535592307692307</td><td>0.4289307692307692</td><td>0.45871433697192177</td><td>0.7568426269701495</td><td>0.06908680283868926</td><td>1.54653188208575</td></tr>\n",
              "<tr><td>29</td><td>03538009-A101-449...</td><td>1.949275714285714</td><td>1.5328166428571426</td><td>0.13269392142857142</td><td>0.39829285714285717</td><td>0.4607230580413673</td><td>0.73777217271517</td><td>0.06711960273265556</td><td>1.4902754110278698</td></tr>\n",
              "<tr><td>29</td><td>E7B6EF39-5B1C-438...</td><td>1.9436719999999998</td><td>1.494199733333333</td><td>0.12966002000000001</td><td>0.37174</td><td>0.44449400684052304</td><td>0.7264968253825503</td><td>0.0657367537321094</td><td>1.4397428291191452</td></tr>\n",
              "<tr><td>29</td><td>1F8E6D0C-0084-4BA...</td><td>1.9267756249999999</td><td>1.4958416249999997</td><td>0.12486481875</td><td>0.34850625</td><td>0.43470801747025184</td><td>0.7018933402377576</td><td>0.06634105831937682</td><td>1.394025</td></tr>\n",
              "<tr><td>29</td><td>B85FB1E7-C312-48C...</td><td>1.9478347058823526</td><td>1.4925297647058822</td><td>0.1256272411764706</td><td>0.44738999999999995</td><td>0.42976692783876547</td><td>0.679742475404889</td><td>0.0643113280302162</td><td>1.4099911441477213</td></tr>\n",
              "</table>\n",
              "only showing top 20 rows\n"
            ]
          },
          "metadata": {},
          "execution_count": 189
        }
      ]
    }
  ],
  "metadata": {
    "colab": {
      "collapsed_sections": [],
      "name": "Pyspark-trip-metrics.ipynb",
      "provenance": [],
      "include_colab_link": true
    },
    "kernelspec": {
      "display_name": "Python 3",
      "name": "python3"
    },
    "language_info": {
      "name": "python"
    }
  },
  "nbformat": 4,
  "nbformat_minor": 0
}